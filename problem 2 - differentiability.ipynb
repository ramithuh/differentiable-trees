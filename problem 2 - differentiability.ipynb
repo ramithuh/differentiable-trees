{
 "cells": [
  {
   "cell_type": "code",
   "execution_count": 1,
   "metadata": {},
   "outputs": [],
   "source": [
    "%load_ext autoreload\n",
    "%autoreload 2\n",
    "\n",
    "import jax.numpy as jnp\n",
    "import jax.nn as nn\n",
    "import jax\n",
    "import optax\n",
    "import functools\n",
    "\n",
    "import pydot\n",
    "import numpy as np\n",
    "from helpers import *"
   ]
  },
  {
   "cell_type": "code",
   "execution_count": 2,
   "metadata": {},
   "outputs": [
    {
     "name": "stderr",
     "output_type": "stream",
     "text": [
      "WARNING:absl:No GPU/TPU found, falling back to CPU. (Set TF_CPP_MIN_LOG_LEVEL=0 and rerun for more info.)\n"
     ]
    }
   ],
   "source": [
    "key = jax.random.PRNGKey(42)"
   ]
  },
  {
   "cell_type": "markdown",
   "metadata": {},
   "source": [
    "# Sequences"
   ]
  },
  {
   "cell_type": "code",
   "execution_count": 3,
   "metadata": {},
   "outputs": [],
   "source": [
    "# sequences (fixed)\n",
    "a = jnp.array([0,0,0,0])\n",
    "b = jnp.array([1,0,0,1])\n",
    "c = jnp.array([0,1,1,0])\n",
    "\n",
    "# ancestral sequences (???)\n",
    "d = jnp.array([0,0,0,0]) # ? \n",
    "e = jnp.array([0,0,0,0]) # ?"
   ]
  },
  {
   "cell_type": "code",
   "execution_count": 4,
   "metadata": {},
   "outputs": [],
   "source": [
    "# similarity matrix (fixed)\n",
    "sm = jnp.array([[0,1],\n",
    "               [1,0]])"
   ]
  },
  {
   "cell_type": "code",
   "execution_count": 5,
   "metadata": {},
   "outputs": [],
   "source": [
    "seqs = jnp.array([a,b,c,d,e],dtype=np.float32)"
   ]
  },
  {
   "cell_type": "code",
   "execution_count": 6,
   "metadata": {},
   "outputs": [],
   "source": [
    "# a-\\\n",
    "#   [d]---[e]\n",
    "# b-/     /\n",
    "#        /\n",
    "# c-----/\n",
    "\n",
    "# tree (???)\n",
    "#              a,b,c,d,e\n",
    "t = jnp.array([[0,0,0,1,0],  # a\n",
    "              [0,0,0,1,0],  # b\n",
    "              [0,0,0,0,1],  # c\n",
    "              [0,0,0,0,1],  # d\n",
    "              [0,0,0,0,1]]) # e\n",
    "\n",
    "labels = {0:'a',1:'b',2:'c',3:'d',4:'e'}\n",
    "\n",
    "t = t.at[-1,-1].set(1)"
   ]
  },
  {
   "cell_type": "code",
   "execution_count": null,
   "metadata": {},
   "outputs": [],
   "source": []
  },
  {
   "cell_type": "code",
   "execution_count": 7,
   "metadata": {},
   "outputs": [],
   "source": [
    "# t = generate_t(5)"
   ]
  },
  {
   "cell_type": "code",
   "execution_count": null,
   "metadata": {},
   "outputs": [],
   "source": []
  },
  {
   "cell_type": "code",
   "execution_count": null,
   "metadata": {},
   "outputs": [],
   "source": []
  },
  {
   "cell_type": "code",
   "execution_count": 8,
   "metadata": {},
   "outputs": [
    {
     "data": {
      "text/plain": [
       "DeviceArray([[0, 0, 0, 1, 0],\n",
       "             [0, 0, 0, 1, 0],\n",
       "             [0, 0, 0, 0, 1],\n",
       "             [0, 0, 0, 0, 1],\n",
       "             [0, 0, 0, 0, 1]], dtype=int32)"
      ]
     },
     "execution_count": 8,
     "metadata": {},
     "output_type": "execute_result"
    }
   ],
   "source": [
    "t"
   ]
  },
  {
   "cell_type": "code",
   "execution_count": null,
   "metadata": {},
   "outputs": [],
   "source": []
  },
  {
   "cell_type": "code",
   "execution_count": 9,
   "metadata": {},
   "outputs": [],
   "source": [
    "def compute_cost(sequences, tree, verbose = False):\n",
    "#     print(type(sequences))\n",
    "#     print(sequences)\n",
    "    selection = jnp.matmul(tree,sequences)\n",
    "    \n",
    "    if(verbose==True):\n",
    "        show_graph_with_labels(t,labels)\n",
    "    \n",
    "#     #method 1: needs integers\n",
    "#     selection = selection.astype(int)\n",
    "#     ans = sm[selection,sequences].sum()\n",
    "    \n",
    "    #method 2:\n",
    "    ans = abs(selection - sequences).sum()\n",
    " \n",
    "    return ans"
   ]
  },
  {
   "cell_type": "code",
   "execution_count": 10,
   "metadata": {},
   "outputs": [
    {
     "data": {
      "text/plain": [
       "DeviceArray([[0., 0., 0., 0.],\n",
       "             [1., 0., 0., 1.],\n",
       "             [0., 1., 1., 0.],\n",
       "             [0., 0., 0., 0.],\n",
       "             [0., 0., 0., 0.]], dtype=float32)"
      ]
     },
     "execution_count": 10,
     "metadata": {},
     "output_type": "execute_result"
    }
   ],
   "source": [
    "seqs"
   ]
  },
  {
   "cell_type": "code",
   "execution_count": 11,
   "metadata": {},
   "outputs": [
    {
     "data": {
      "text/plain": [
       "DeviceArray([[0, 0, 0, 1, 0],\n",
       "             [0, 0, 0, 1, 0],\n",
       "             [0, 0, 0, 0, 1],\n",
       "             [0, 0, 0, 0, 1],\n",
       "             [0, 0, 0, 0, 1]], dtype=int32)"
      ]
     },
     "execution_count": 11,
     "metadata": {},
     "output_type": "execute_result"
    }
   ],
   "source": [
    "t"
   ]
  },
  {
   "cell_type": "code",
   "execution_count": 12,
   "metadata": {},
   "outputs": [
    {
     "data": {
      "image/png": "[encoded data removed]",
      "text/plain": [
       "<Figure size 432x288 with 1 Axes>"
      ]
     },
     "metadata": {},
     "output_type": "display_data"
    },
    {
     "data": {
      "text/plain": [
       "DeviceArray(4., dtype=float32)"
      ]
     },
     "execution_count": 12,
     "metadata": {},
     "output_type": "execute_result"
    }
   ],
   "source": [
    "compute_cost(seqs,t,1)"
   ]
  },
  {
   "cell_type": "code",
   "execution_count": null,
   "metadata": {},
   "outputs": [],
   "source": []
  },
  {
   "cell_type": "markdown",
   "metadata": {},
   "source": [
    "### Training"
   ]
  },
  {
   "cell_type": "code",
   "execution_count": 13,
   "metadata": {},
   "outputs": [
    {
     "data": {
      "text/plain": [
       "(5, 4)"
      ]
     },
     "execution_count": 13,
     "metadata": {},
     "output_type": "execute_result"
    }
   ],
   "source": [
    "seqs.shape"
   ]
  },
  {
   "cell_type": "code",
   "execution_count": null,
   "metadata": {},
   "outputs": [],
   "source": []
  },
  {
   "cell_type": "code",
   "execution_count": 21,
   "metadata": {},
   "outputs": [],
   "source": []
  },
  {
   "cell_type": "markdown",
   "metadata": {},
   "source": [
    "### initialize params"
   ]
  },
  {
   "cell_type": "code",
   "execution_count": 22,
   "metadata": {},
   "outputs": [],
   "source": [
    "optimizer = optax.adam(0.01)\n",
    "\n",
    "params = {'d':jnp.array([0,0,0.0,0.0]), 'e':jnp.array([0,0.0,0,0.0])}\n",
    "\n",
    "#params = jax.random.uniform(key, (5,4))\n",
    "opt_state = optimizer.init(params)"
   ]
  },
  {
   "cell_type": "code",
   "execution_count": 23,
   "metadata": {},
   "outputs": [
    {
     "data": {
      "text/plain": [
       "{'d': DeviceArray([0., 0., 0., 0.], dtype=float32),\n",
       " 'e': DeviceArray([0., 0., 0., 0.], dtype=float32)}"
      ]
     },
     "execution_count": 23,
     "metadata": {},
     "output_type": "execute_result"
    }
   ],
   "source": [
    "params"
   ]
  },
  {
   "cell_type": "code",
   "execution_count": 24,
   "metadata": {},
   "outputs": [],
   "source": [
    "def compute_loss(params, seqs_, t):\n",
    "    seqs_ = seqs_.at[-2].set(seqs_[-2] + nn.sigmoid(params['d']))\n",
    "    seqs_ = seqs_.at[-1].set(seqs_[-1] + nn.sigmoid(params['e']))\n",
    "    \n",
    "    loss  = compute_cost(seqs_,t)\n",
    "    \n",
    "    return loss"
   ]
  },
  {
   "cell_type": "code",
   "execution_count": 25,
   "metadata": {},
   "outputs": [
    {
     "data": {
      "text/plain": [
       "DeviceArray(6., dtype=float32)"
      ]
     },
     "execution_count": 25,
     "metadata": {},
     "output_type": "execute_result"
    }
   ],
   "source": [
    "compute_loss(params, seqs, t)"
   ]
  },
  {
   "cell_type": "code",
   "execution_count": 28,
   "metadata": {},
   "outputs": [
    {
     "name": "stdout",
     "output_type": "stream",
     "text": [
      "4.1119375\n",
      "4.0957513\n",
      "4.0828023\n",
      "4.0722885\n",
      "4.0636635\n",
      "4.05639\n",
      "4.050297\n",
      "4.0451074\n",
      "4.0406795\n",
      "4.0367727\n"
     ]
    }
   ],
   "source": [
    "for _ in range(1000):\n",
    "    grads = jax.grad(compute_loss)(params, seqs, t)\n",
    "    \n",
    "    if(_%100==0):\n",
    "        print(compute_loss(params, seqs, t))\n",
    "    updates, opt_state = optimizer.update(grads, opt_state)\n",
    "    params = optax.apply_updates(params, updates)\n"
   ]
  },
  {
   "cell_type": "markdown",
   "metadata": {},
   "source": [
    "## Retrieving the new sequences array"
   ]
  },
  {
   "cell_type": "code",
   "execution_count": 31,
   "metadata": {},
   "outputs": [],
   "source": [
    "def combine_to_seq(params, seqs):\n",
    "    seqs = seqs.at[-2].set(seqs[-2] + nn.sigmoid(params['d']))\n",
    "    seqs = seqs.at[-1].set(seqs[-1] + nn.sigmoid(params['e']))\n",
    "    \n",
    "    return seqs"
   ]
  },
  {
   "cell_type": "code",
   "execution_count": 32,
   "metadata": {},
   "outputs": [
    {
     "data": {
      "text/plain": [
       "DeviceArray([[0.        , 0.        , 0.        , 0.        ],\n",
       "             [1.        , 0.        , 0.        , 1.        ],\n",
       "             [0.        , 1.        , 1.        , 0.        ],\n",
       "             [0.01260505, 0.00409208, 0.00409208, 0.01260505],\n",
       "             [0.01260638, 0.5       , 0.5       , 0.01260638]],            dtype=float32)"
      ]
     },
     "execution_count": 32,
     "metadata": {},
     "output_type": "execute_result"
    }
   ],
   "source": [
    "combine_to_seq(params, seqs)"
   ]
  },
  {
   "cell_type": "code",
   "execution_count": null,
   "metadata": {},
   "outputs": [],
   "source": []
  },
  {
   "cell_type": "code",
   "execution_count": null,
   "metadata": {},
   "outputs": [],
   "source": []
  },
  {
   "cell_type": "code",
   "execution_count": null,
   "metadata": {},
   "outputs": [],
   "source": []
  },
  {
   "cell_type": "code",
   "execution_count": null,
   "metadata": {},
   "outputs": [],
   "source": []
  },
  {
   "cell_type": "code",
   "execution_count": null,
   "metadata": {},
   "outputs": [],
   "source": []
  },
  {
   "cell_type": "code",
   "execution_count": null,
   "metadata": {},
   "outputs": [],
   "source": []
  },
  {
   "cell_type": "code",
   "execution_count": null,
   "metadata": {},
   "outputs": [],
   "source": []
  },
  {
   "cell_type": "code",
   "execution_count": null,
   "metadata": {},
   "outputs": [],
   "source": []
  },
  {
   "cell_type": "code",
   "execution_count": null,
   "metadata": {},
   "outputs": [],
   "source": []
  }
 ],
 "metadata": {
  "kernelspec": {
   "display_name": "Python 3",
   "language": "python",
   "name": "python3"
  },
  "language_info": {
   "codemirror_mode": {
    "name": "ipython",
    "version": 3
   },
   "file_extension": ".py",
   "mimetype": "text/x-python",
   "name": "python",
   "nbconvert_exporter": "python",
   "pygments_lexer": "ipython3",
   "version": "3.7.3"
  }
 },
 "nbformat": 4,
 "nbformat_minor": 4
}
