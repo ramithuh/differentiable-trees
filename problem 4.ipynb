{
 "cells": [
  {
   "cell_type": "code",
   "execution_count": 1,
   "metadata": {},
   "outputs": [],
   "source": [
    "%%bash\n",
    "[[ ! -e /content/sample_data ]] && exit  ## run this cell only in colab\n",
    " \n",
    "pip install optax -qqq\n",
    "pip install networkx==2.5 -qqq\n",
    "pip install netgraph\n",
    "git clone https://github.com/ramithuh/differentiable-trees --quiet"
   ]
  },
  {
   "cell_type": "code",
   "execution_count": 2,
   "metadata": {},
   "outputs": [],
   "source": [
    "%load_ext autoreload\n",
    "%autoreload 2\n",
    "\n",
    "import os\n",
    "import sys\n",
    "\n",
    "if(os.path.exists('/content/sample_data')):\n",
    "  sys.path.append('differentiable-trees/')\n",
    "\n",
    "import jax.numpy as jnp\n",
    "import jax.nn as nn\n",
    "import jax\n",
    "import optax\n",
    "import functools\n",
    "\n",
    "import pydot\n",
    "import numpy as np\n",
    "from helpers import *\n",
    "\n",
    "from matplotlib import rc\n",
    "rc('animation', html='jshtml')"
   ]
  },
  {
   "cell_type": "code",
   "execution_count": 3,
   "metadata": {},
   "outputs": [],
   "source": [
    "key = jax.random.PRNGKey(42)"
   ]
  },
  {
   "cell_type": "markdown",
   "metadata": {},
   "source": [
    "## Sequences"
   ]
  },
  {
   "cell_type": "code",
   "execution_count": 4,
   "metadata": {},
   "outputs": [],
   "source": [
    "# sequences (fixed)\n",
    "n_leaves    = 4\n",
    "n_ancestors = n_leaves - 1\n",
    "\n",
    "seq_length = 10\n",
    "\n",
    "n_all = n_leaves + n_ancestors\n",
    "\n",
    "\n",
    "blank = jnp.array([0,0,0,0])"
   ]
  },
  {
   "cell_type": "code",
   "execution_count": null,
   "metadata": {},
   "outputs": [],
   "source": []
  },
  {
   "cell_type": "code",
   "execution_count": null,
   "metadata": {},
   "outputs": [],
   "source": []
  },
  {
   "cell_type": "code",
   "execution_count": 5,
   "metadata": {},
   "outputs": [],
   "source": [
    "# similarity matrix (fixed)\n",
    "sm = jnp.array([[0,1],\n",
    "               [1,0]])"
   ]
  },
  {
   "cell_type": "code",
   "execution_count": 6,
   "metadata": {},
   "outputs": [],
   "source": [
    "seqs = jax.random.randint(key, shape = (n_all, seq_length), minval = 0, maxval = 2)"
   ]
  },
  {
   "cell_type": "code",
   "execution_count": 7,
   "metadata": {},
   "outputs": [],
   "source": [
    "base_tree = jnp.zeros((n_all, n_all))"
   ]
  },
  {
   "cell_type": "code",
   "execution_count": null,
   "metadata": {},
   "outputs": [],
   "source": []
  },
  {
   "cell_type": "code",
   "execution_count": 8,
   "metadata": {},
   "outputs": [
    {
     "data": {
      "text/plain": [
       "DeviceArray([[1, 1, 1, 0, 0, 1, 0, 1, 0, 1],\n",
       "             [1, 1, 1, 1, 1, 1, 0, 1, 0, 0],\n",
       "             [0, 0, 1, 1, 0, 1, 0, 1, 0, 0],\n",
       "             [1, 1, 1, 0, 1, 1, 1, 0, 1, 0],\n",
       "             [1, 1, 1, 0, 1, 1, 0, 0, 0, 0],\n",
       "             [1, 1, 0, 0, 1, 1, 1, 1, 1, 0],\n",
       "             [0, 1, 1, 0, 0, 0, 0, 0, 0, 0]], dtype=int32)"
      ]
     },
     "execution_count": 8,
     "metadata": {},
     "output_type": "execute_result"
    }
   ],
   "source": [
    "seqs"
   ]
  },
  {
   "cell_type": "markdown",
   "metadata": {},
   "source": [
    "## Tree Topology (also parameterized)"
   ]
  },
  {
   "cell_type": "markdown",
   "metadata": {},
   "source": [
    "### initialize parameters"
   ]
  },
  {
   "cell_type": "code",
   "execution_count": 9,
   "metadata": {},
   "outputs": [],
   "source": [
    "optimizer = optax.adam(1)\n",
    "\n",
    "params = {'t': jax.random.normal(key, (n_all - 1,n_ancestors))}\n",
    "\n",
    "\n",
    "for i in range(0, n_ancestors):\n",
    "    params[chr(97+i + n_leaves)] = jax.random.normal(key, (seq_length,))\n",
    "    \n",
    "\n",
    "opt_state = optimizer.init(params)"
   ]
  },
  {
   "cell_type": "code",
   "execution_count": 10,
   "metadata": {},
   "outputs": [
    {
     "data": {
      "text/plain": [
       "dict_keys(['t', 'e', 'f', 'g'])"
      ]
     },
     "execution_count": 10,
     "metadata": {},
     "output_type": "execute_result"
    }
   ],
   "source": [
    "params.keys()"
   ]
  },
  {
   "cell_type": "code",
   "execution_count": null,
   "metadata": {},
   "outputs": [],
   "source": []
  },
  {
   "cell_type": "code",
   "execution_count": 11,
   "metadata": {},
   "outputs": [],
   "source": [
    "# t_q = jnp.argmax(t_softmax,axis = 1).T"
   ]
  },
  {
   "cell_type": "code",
   "execution_count": 12,
   "metadata": {},
   "outputs": [
    {
     "data": {
      "text/plain": [
       "(7, 7)"
      ]
     },
     "execution_count": 12,
     "metadata": {},
     "output_type": "execute_result"
    }
   ],
   "source": [
    "base_tree.shape"
   ]
  },
  {
   "cell_type": "code",
   "execution_count": null,
   "metadata": {},
   "outputs": [],
   "source": []
  },
  {
   "cell_type": "code",
   "execution_count": null,
   "metadata": {},
   "outputs": [],
   "source": [
    "\n",
    "    "
   ]
  },
  {
   "cell_type": "code",
   "execution_count": null,
   "metadata": {},
   "outputs": [],
   "source": []
  },
  {
   "cell_type": "code",
   "execution_count": null,
   "metadata": {},
   "outputs": [],
   "source": []
  },
  {
   "cell_type": "code",
   "execution_count": null,
   "metadata": {},
   "outputs": [],
   "source": []
  },
  {
   "cell_type": "code",
   "execution_count": 13,
   "metadata": {},
   "outputs": [
    {
     "data": {
      "image/png": "[encoded data removed]",
      "text/plain": [
       "<Figure size 640x480 with 1 Axes>"
      ]
     },
     "metadata": {},
     "output_type": "display_data"
    }
   ],
   "source": [
    "show_graph_with_labels(discretize_tree_topology(update_tree(params, base_tree), n_all),n_leaves)"
   ]
  },
  {
   "cell_type": "code",
   "execution_count": null,
   "metadata": {},
   "outputs": [],
   "source": []
  },
  {
   "cell_type": "code",
   "execution_count": null,
   "metadata": {},
   "outputs": [],
   "source": []
  },
  {
   "cell_type": "code",
   "execution_count": null,
   "metadata": {},
   "outputs": [],
   "source": []
  },
  {
   "cell_type": "code",
   "execution_count": null,
   "metadata": {},
   "outputs": [],
   "source": []
  },
  {
   "cell_type": "code",
   "execution_count": null,
   "metadata": {},
   "outputs": [],
   "source": []
  },
  {
   "cell_type": "markdown",
   "metadata": {},
   "source": [
    "### Function to compute total distance"
   ]
  },
  {
   "cell_type": "code",
   "execution_count": 14,
   "metadata": {},
   "outputs": [],
   "source": [
    "def compute_cost(sequences, tree, verbose = False, average = True):\n",
    "    if(verbose==True):\n",
    "        show_graph_with_labels(discretize_tree_topology(tree, n_all),n_leaves)\n",
    "        \n",
    "    selection = jnp.matmul(tree,sequences)\n",
    "    # print(selection)\n",
    "    \n",
    "#     #method 1: (downside needs integers as we are indexing)\n",
    "#     selection = selection.astype(int)\n",
    "#     ans = sm[selection,sequences].sum()\n",
    "    \n",
    "    #method 2:\n",
    "    if(average):\n",
    "        ans = abs(selection - sequences).sum() ## works currently as sm is the basic config. need to think about extending\n",
    "    else:\n",
    "        ans = jnp.sum(abs(selection - sequences), axis = 1)\n",
    "    \n",
    "    return ans"
   ]
  },
  {
   "cell_type": "code",
   "execution_count": null,
   "metadata": {},
   "outputs": [],
   "source": []
  },
  {
   "cell_type": "code",
   "execution_count": 15,
   "metadata": {},
   "outputs": [
    {
     "data": {
      "text/plain": [
       "DeviceArray([[0.        , 0.        , 0.        , 0.        , 0.30321804,\n",
       "              0.16727467, 0.5295073 ],\n",
       "             [0.        , 0.        , 0.        , 0.        , 0.3965519 ,\n",
       "              0.12775946, 0.4756886 ],\n",
       "             [0.        , 0.        , 0.        , 0.        , 0.12712821,\n",
       "              0.8479232 , 0.02494855],\n",
       "             [0.        , 0.        , 0.        , 0.        , 0.31710118,\n",
       "              0.2897718 , 0.39312702],\n",
       "             [0.        , 0.        , 0.        , 0.        , 0.20008957,\n",
       "              0.17309996, 0.62681043],\n",
       "             [0.        , 0.        , 0.        , 0.        , 0.14293277,\n",
       "              0.3836567 , 0.47341058],\n",
       "             [0.        , 0.        , 0.        , 0.        , 0.        ,\n",
       "              0.        , 1.        ]], dtype=float32)"
      ]
     },
     "execution_count": 15,
     "metadata": {},
     "output_type": "execute_result"
    }
   ],
   "source": [
    "update_tree(params, base_tree)"
   ]
  },
  {
   "cell_type": "code",
   "execution_count": 16,
   "metadata": {},
   "outputs": [
    {
     "data": {
      "text/plain": [
       "DeviceArray(23.855356, dtype=float32)"
      ]
     },
     "execution_count": 16,
     "metadata": {},
     "output_type": "execute_result"
    },
    {
     "data": {
      "image/png": "[encoded data removed]",
      "text/plain": [
       "<Figure size 640x480 with 1 Axes>"
      ]
     },
     "metadata": {},
     "output_type": "display_data"
    }
   ],
   "source": [
    "compute_cost(seqs,update_tree(params, base_tree),1)"
   ]
  },
  {
   "cell_type": "code",
   "execution_count": null,
   "metadata": {},
   "outputs": [],
   "source": []
  },
  {
   "cell_type": "code",
   "execution_count": 17,
   "metadata": {},
   "outputs": [
    {
     "data": {
      "text/plain": [
       "{'t': DeviceArray([[-0.63462436, -1.2294393 , -0.07712954],\n",
       "              [-0.22857422, -1.3612318 , -0.04661765],\n",
       "              [-0.14380704,  1.7537868 , -1.7721876 ],\n",
       "              [ 0.18559739,  0.09547025,  0.40050933],\n",
       "              [ 0.9773695 ,  0.83247375,  2.1192486 ],\n",
       "              [-0.67893344,  0.3084403 ,  0.51865524]], dtype=float32),\n",
       " 'e': DeviceArray([ 0.36900434, -0.46067542, -0.8650934 ,  1.2080883 ,\n",
       "               1.003065  , -0.8708058 , -0.3984997 , -0.6670092 ,\n",
       "               0.33689356,  0.39822492], dtype=float32),\n",
       " 'f': DeviceArray([ 0.36900434, -0.46067542, -0.8650934 ,  1.2080883 ,\n",
       "               1.003065  , -0.8708058 , -0.3984997 , -0.6670092 ,\n",
       "               0.33689356,  0.39822492], dtype=float32),\n",
       " 'g': DeviceArray([ 0.36900434, -0.46067542, -0.8650934 ,  1.2080883 ,\n",
       "               1.003065  , -0.8708058 , -0.3984997 , -0.6670092 ,\n",
       "               0.33689356,  0.39822492], dtype=float32)}"
      ]
     },
     "execution_count": 17,
     "metadata": {},
     "output_type": "execute_result"
    }
   ],
   "source": [
    "params"
   ]
  },
  {
   "cell_type": "code",
   "execution_count": 18,
   "metadata": {},
   "outputs": [
    {
     "data": {
      "text/plain": [
       "7"
      ]
     },
     "execution_count": 18,
     "metadata": {},
     "output_type": "execute_result"
    }
   ],
   "source": [
    "n_all"
   ]
  },
  {
   "cell_type": "code",
   "execution_count": 19,
   "metadata": {},
   "outputs": [],
   "source": [
    "# tree_force_loss = 0 \n",
    "\n",
    "# t_new = discretize_tree_topology(update_tree(params, base_tree), n_leaves + n_ancestors)\n",
    "\n",
    "# for k in range(n_all - 1, n_all - 1 - n_ancestors, -1):\n",
    "#     tree_force_loss += (abs(t_new[:-1,k].sum()-2))**2\n",
    "\n",
    "# print(tree_force_loss)"
   ]
  },
  {
   "cell_type": "code",
   "execution_count": null,
   "metadata": {},
   "outputs": [],
   "source": []
  },
  {
   "cell_type": "code",
   "execution_count": 20,
   "metadata": {},
   "outputs": [],
   "source": [
    "def regularize_graph(t_, s, verbose = False):\n",
    "    \n",
    "    tree_force_loss = jnp.sum(jnp.power(s*jnp.abs(jnp.sum(t_[:-1, n_all - n_ancestors: n_all], axis = 0) - 2),2))\n",
    "    \n",
    "    #tree_force_loss = (s*abs(t_[:-1,-2].sum()-2))**2 + (s*abs(t_[:-1,-1].sum()-2))**2\n",
    "    \n",
    "    loop_loss = jnp.multiply(jnp.identity(n_all-1), t_[:-1,:-1]).sum()*100  ## penalize self connections\n",
    "    \n",
    "    \n",
    "    if(verbose):\n",
    "        print(\"bifurcating tree_forcing_loss = \", tree_force_loss)\n",
    "        print(\"self loop_loss = \", loop_loss)\n",
    "    \n",
    "    return tree_force_loss + loop_loss"
   ]
  },
  {
   "cell_type": "code",
   "execution_count": null,
   "metadata": {},
   "outputs": [],
   "source": []
  },
  {
   "cell_type": "code",
   "execution_count": 21,
   "metadata": {},
   "outputs": [],
   "source": [
    "def compute_loss(params, seqs, base_tree, verbose = False):\n",
    "    seqs_ = combine_to_seq(params, seqs, n_leaves, n_all)\n",
    "    t_    = update_tree(params, base_tree)\n",
    "\n",
    "    loss  = compute_cost(seqs_,t_) + regularize_graph(t_,10, verbose)\n",
    "    \n",
    "    return loss"
   ]
  },
  {
   "cell_type": "code",
   "execution_count": null,
   "metadata": {},
   "outputs": [],
   "source": []
  },
  {
   "cell_type": "code",
   "execution_count": 22,
   "metadata": {},
   "outputs": [
    {
     "name": "stderr",
     "output_type": "stream",
     "text": [
      "/opt/conda/envs/pytorch/lib/python3.9/site-packages/jax/_src/ops/scatter.py:87: FutureWarning: scatter inputs have incompatible types: cannot safely cast value from dtype=float32 to dtype=int32. In future JAX releases this will result in an error.\n",
      "  warnings.warn(\"scatter inputs have incompatible types: cannot safely cast \"\n"
     ]
    },
    {
     "data": {
      "text/plain": [
       "DeviceArray(130.08109, dtype=float32)"
      ]
     },
     "execution_count": 22,
     "metadata": {},
     "output_type": "execute_result"
    }
   ],
   "source": [
    "compute_loss(params, seqs, base_tree)"
   ]
  },
  {
   "cell_type": "code",
   "execution_count": null,
   "metadata": {},
   "outputs": [],
   "source": []
  },
  {
   "cell_type": "code",
   "execution_count": 23,
   "metadata": {},
   "outputs": [
    {
     "name": "stdout",
     "output_type": "stream",
     "text": [
      "130.08109 seq = {}\n",
      "20.99968 seq = {}\n",
      "20.99238 seq = {}\n",
      "20.98862 seq = {}\n",
      "20.98308 seq = {}\n",
      "20.97110 seq = {}\n",
      "20.92741 seq = {}\n",
      "17.83709 seq = {}\n",
      "17.03249 seq = {}\n",
      "17.01831 seq = {}\n",
      "17.01234 seq = {}\n",
      "17.00904 seq = {}\n",
      "17.00696 seq = {}\n",
      "17.00553 seq = {}\n",
      "17.00449 seq = {}\n"
     ]
    }
   ],
   "source": [
    "trees = []\n",
    "\n",
    "for _ in range(1500):\n",
    "    grads = jax.grad(compute_loss)(params, seqs, base_tree)\n",
    "    \n",
    "    \n",
    "    t_= update_tree(params, base_tree)\n",
    "    t__ = discretize_tree_topology(t_,n_all)\n",
    "    t__ = t__.at[-1,-1].set(0)\n",
    "    \n",
    "    trees.append(t__)\n",
    "    \n",
    "    if(_%100==0):\n",
    "        # temp  = combine_to_seq(params, seqs)\n",
    "        \n",
    "        print(\"{:.5f}\".format(compute_loss(params, seqs, base_tree)),end = \" seq = {}\\n\")\n",
    "        #print(t_[:,-2],\",\",t_[:,-1],end=\"}\\n\")\n",
    "    updates, opt_state = optimizer.update(grads, opt_state)\n",
    "    params = optax.apply_updates(params, updates)\n"
   ]
  },
  {
   "cell_type": "code",
   "execution_count": 24,
   "metadata": {},
   "outputs": [],
   "source": [
    "adjacency_matrix2 = jnp.array(trees)"
   ]
  },
  {
   "cell_type": "code",
   "execution_count": 25,
   "metadata": {},
   "outputs": [
    {
     "name": "stderr",
     "output_type": "stream",
     "text": [
      "<__array_function__ internals>:180: VisibleDeprecationWarning: Creating an ndarray from ragged nested sequences (which is a list-or-tuple of lists-or-tuples-or ndarrays with different lengths or shapes) is deprecated. If you meant to do this, you must specify 'dtype=object' when creating the ndarray.\n",
      "/opt/conda/envs/pytorch/lib/python3.9/site-packages/netgraph/_utils.py:395: RuntimeWarning: invalid value encountered in divide\n",
      "  unit_vector = vector / np.linalg.norm(vector)\n"
     ]
    },
    {
     "data": {
      "image/png": "[encoded data removed]",
      "text/plain": [
       "<Figure size 640x480 with 1 Axes>"
      ]
     },
     "metadata": {},
     "output_type": "display_data"
    }
   ],
   "source": [
    "anim = animate_tree(adjacency_matrix2, n_leaves, n_ancestors, total_frames = 500 )"
   ]
  },
  {
   "cell_type": "code",
   "execution_count": 26,
   "metadata": {},
   "outputs": [],
   "source": [
    "anim.save(f\"nodes_{n_all}.mp4\")"
   ]
  },
  {
   "cell_type": "code",
   "execution_count": 27,
   "metadata": {},
   "outputs": [],
   "source": [
    "t_new = discretize_tree_topology(update_tree(params, base_tree), n_leaves + n_ancestors)"
   ]
  },
  {
   "cell_type": "code",
   "execution_count": 28,
   "metadata": {},
   "outputs": [
    {
     "name": "stderr",
     "output_type": "stream",
     "text": [
      "/opt/conda/envs/pytorch/lib/python3.9/site-packages/jax/_src/ops/scatter.py:87: FutureWarning: scatter inputs have incompatible types: cannot safely cast value from dtype=float32 to dtype=int32. In future JAX releases this will result in an error.\n",
      "  warnings.warn(\"scatter inputs have incompatible types: cannot safely cast \"\n"
     ]
    }
   ],
   "source": [
    "discretized = jnp.round(combine_to_seq(params, seqs, n_leaves, n_all))"
   ]
  },
  {
   "cell_type": "code",
   "execution_count": 29,
   "metadata": {},
   "outputs": [
    {
     "name": "stdout",
     "output_type": "stream",
     "text": [
      "bifurcating tree_forcing_loss =  0.00048639788\n",
      "self loop_loss =  0.00045291122\n"
     ]
    },
    {
     "data": {
      "text/plain": [
       "DeviceArray(17.0037, dtype=float32)"
      ]
     },
     "execution_count": 29,
     "metadata": {},
     "output_type": "execute_result"
    }
   ],
   "source": [
    "compute_loss(params, seqs, base_tree, 1)"
   ]
  },
  {
   "cell_type": "code",
   "execution_count": 30,
   "metadata": {},
   "outputs": [
    {
     "data": {
      "text/plain": [
       "DeviceArray([[0., 0., 0., 0., 1., 0., 0.],\n",
       "             [0., 0., 0., 0., 0., 0., 1.],\n",
       "             [0., 0., 0., 0., 0., 1., 0.],\n",
       "             [0., 0., 0., 0., 1., 0., 0.],\n",
       "             [0., 0., 0., 0., 0., 1., 0.],\n",
       "             [0., 0., 0., 0., 0., 0., 1.],\n",
       "             [0., 0., 0., 0., 0., 0., 1.]], dtype=float32)"
      ]
     },
     "execution_count": 30,
     "metadata": {},
     "output_type": "execute_result"
    }
   ],
   "source": [
    "t_new"
   ]
  },
  {
   "cell_type": "code",
   "execution_count": null,
   "metadata": {},
   "outputs": [],
   "source": []
  },
  {
   "cell_type": "code",
   "execution_count": null,
   "metadata": {},
   "outputs": [],
   "source": []
  },
  {
   "cell_type": "code",
   "execution_count": null,
   "metadata": {},
   "outputs": [],
   "source": []
  },
  {
   "cell_type": "code",
   "execution_count": null,
   "metadata": {},
   "outputs": [],
   "source": []
  },
  {
   "cell_type": "code",
   "execution_count": null,
   "metadata": {},
   "outputs": [],
   "source": []
  },
  {
   "cell_type": "code",
   "execution_count": null,
   "metadata": {},
   "outputs": [],
   "source": []
  },
  {
   "cell_type": "code",
   "execution_count": null,
   "metadata": {},
   "outputs": [],
   "source": []
  },
  {
   "cell_type": "code",
   "execution_count": null,
   "metadata": {},
   "outputs": [],
   "source": []
  },
  {
   "cell_type": "code",
   "execution_count": null,
   "metadata": {},
   "outputs": [],
   "source": []
  },
  {
   "cell_type": "code",
   "execution_count": null,
   "metadata": {},
   "outputs": [],
   "source": []
  },
  {
   "cell_type": "code",
   "execution_count": 31,
   "metadata": {},
   "outputs": [
    {
     "data": {
      "text/plain": [
       "<matplotlib.colorbar.Colorbar at 0x7f70c44b66a0>"
      ]
     },
     "execution_count": 31,
     "metadata": {},
     "output_type": "execute_result"
    },
    {
     "data": {
      "image/png": "[encoded data removed]",
      "text/plain": [
       "<Figure size 640x480 with 2 Axes>"
      ]
     },
     "metadata": {},
     "output_type": "display_data"
    }
   ],
   "source": [
    "plt.imshow(adjacency_matrix2[300])\n",
    "plt.colorbar()"
   ]
  },
  {
   "cell_type": "code",
   "execution_count": null,
   "metadata": {},
   "outputs": [],
   "source": []
  },
  {
   "cell_type": "code",
   "execution_count": null,
   "metadata": {},
   "outputs": [],
   "source": []
  },
  {
   "cell_type": "code",
   "execution_count": null,
   "metadata": {},
   "outputs": [],
   "source": []
  },
  {
   "cell_type": "code",
   "execution_count": 32,
   "metadata": {},
   "outputs": [
    {
     "data": {
      "text/plain": [
       "<matplotlib.colorbar.Colorbar at 0x7f70c43d3670>"
      ]
     },
     "execution_count": 32,
     "metadata": {},
     "output_type": "execute_result"
    },
    {
     "data": {
      "image/png": "[encoded data removed]",
      "text/plain": [
       "<Figure size 640x480 with 2 Axes>"
      ]
     },
     "metadata": {},
     "output_type": "display_data"
    }
   ],
   "source": [
    "plt.imshow(adjacency_matrix2[-1])\n",
    "plt.colorbar()\n"
   ]
  },
  {
   "cell_type": "code",
   "execution_count": null,
   "metadata": {},
   "outputs": [],
   "source": []
  },
  {
   "cell_type": "code",
   "execution_count": null,
   "metadata": {},
   "outputs": [],
   "source": []
  },
  {
   "cell_type": "code",
   "execution_count": null,
   "metadata": {},
   "outputs": [],
   "source": []
  },
  {
   "cell_type": "code",
   "execution_count": null,
   "metadata": {},
   "outputs": [],
   "source": []
  },
  {
   "cell_type": "code",
   "execution_count": null,
   "metadata": {},
   "outputs": [],
   "source": []
  },
  {
   "cell_type": "code",
   "execution_count": null,
   "metadata": {},
   "outputs": [],
   "source": []
  },
  {
   "cell_type": "markdown",
   "metadata": {},
   "source": [
    "## Retrieving the new sequences array"
   ]
  },
  {
   "cell_type": "code",
   "execution_count": null,
   "metadata": {},
   "outputs": [],
   "source": []
  },
  {
   "cell_type": "code",
   "execution_count": 33,
   "metadata": {},
   "outputs": [],
   "source": [
    "t_new = discretize_tree_topology(update_tree(params, base_tree), n_leaves + n_ancestors)"
   ]
  },
  {
   "cell_type": "code",
   "execution_count": null,
   "metadata": {},
   "outputs": [
    {
     "data": {
      "text/plain": [
       "DeviceArray([[1, 1, 1, 0, 0, 1, 0, 1, 0, 1],\n",
       "             [1, 1, 1, 1, 1, 1, 0, 1, 0, 0],\n",
       "             [0, 0, 1, 1, 0, 1, 0, 1, 0, 0],\n",
       "             [0, 0, 0, 0, 0, 0, 0, 0, 0, 0],\n",
       "             [0, 0, 0, 0, 0, 0, 0, 0, 0, 0],\n",
       "             [0, 0, 0, 0, 0, 0, 0, 0, 0, 0],\n",
       "             [0, 1, 1, 0, 0, 0, 0, 0, 0, 0]], dtype=int32)"
      ]
     },
     "execution_count": 50,
     "metadata": {},
     "output_type": "execute_result"
    }
   ],
   "source": [
    "combine_to_seq(params, seqs, n_leaves, n_all)"
   ]
  },
  {
   "cell_type": "code",
   "execution_count": 51,
   "metadata": {},
   "outputs": [],
   "source": [
    "discretized = jnp.round(combine_to_seq(params, seqs, n_leaves, n_all))"
   ]
  },
  {
   "cell_type": "code",
   "execution_count": 52,
   "metadata": {},
   "outputs": [
    {
     "data": {
      "text/plain": [
       "DeviceArray([[1, 1, 1, 0, 0, 1, 0, 1, 0, 1],\n",
       "             [1, 1, 1, 1, 1, 1, 0, 1, 0, 0],\n",
       "             [0, 0, 1, 1, 0, 1, 0, 1, 0, 0],\n",
       "             [0, 0, 0, 0, 0, 0, 0, 0, 0, 0],\n",
       "             [0, 0, 0, 0, 0, 0, 0, 0, 0, 0],\n",
       "             [0, 0, 0, 0, 0, 0, 0, 0, 0, 0],\n",
       "             [0, 1, 1, 0, 0, 0, 0, 0, 0, 0]], dtype=int32)"
      ]
     },
     "execution_count": 52,
     "metadata": {},
     "output_type": "execute_result"
    }
   ],
   "source": [
    "discretized"
   ]
  },
  {
   "cell_type": "code",
   "execution_count": 43,
   "metadata": {},
   "outputs": [
    {
     "data": {
      "text/plain": [
       "DeviceArray([[1, 1, 1, 0, 0, 1, 0, 1, 0, 1],\n",
       "             [1, 1, 1, 1, 1, 1, 0, 1, 0, 0],\n",
       "             [0, 0, 1, 1, 0, 1, 0, 1, 0, 0],\n",
       "             [1, 1, 1, 0, 1, 1, 1, 0, 1, 0],\n",
       "             [1, 1, 1, 0, 1, 1, 0, 0, 0, 0],\n",
       "             [1, 1, 0, 0, 1, 1, 1, 1, 1, 0],\n",
       "             [0, 1, 1, 0, 0, 0, 0, 0, 0, 0]], dtype=int32)"
      ]
     },
     "execution_count": 43,
     "metadata": {},
     "output_type": "execute_result"
    }
   ],
   "source": [
    "seqs"
   ]
  },
  {
   "cell_type": "code",
   "execution_count": 44,
   "metadata": {},
   "outputs": [
    {
     "data": {
      "text/plain": [
       "{'e': DeviceArray([ 0.36900434, -0.46067542, -0.8650934 ,  1.2080883 ,\n",
       "               1.003065  , -0.8708058 , -0.3984997 , -0.6670092 ,\n",
       "               0.33689356,  0.39822492], dtype=float32),\n",
       " 'f': DeviceArray([ 0.36900434, -0.46067542, -0.8650934 ,  1.2080883 ,\n",
       "               1.003065  , -0.8708058 , -0.3984997 , -0.6670092 ,\n",
       "               0.33689356,  0.39822492], dtype=float32),\n",
       " 'g': DeviceArray([ 0.36900434, -0.46067542, -0.8650934 ,  1.2080883 ,\n",
       "               1.003065  , -0.8708058 , -0.3984997 , -0.6670092 ,\n",
       "               0.33689356,  0.39822492], dtype=float32),\n",
       " 't': DeviceArray([[ 4.8393407, -2.064851 , -3.3221097],\n",
       "              [-1.2665508, -3.1345305,  6.0019083],\n",
       "              [-2.5783327,  5.0026674, -7.6835756],\n",
       "              [ 5.429791 , -1.028855 , -3.887567 ],\n",
       "              [-4.0181875,  8.340082 ,  1.2095973],\n",
       "              [-3.9840841, -8.726715 ,  6.522282 ]], dtype=float32)}"
      ]
     },
     "execution_count": 44,
     "metadata": {},
     "output_type": "execute_result"
    }
   ],
   "source": [
    "params"
   ]
  },
  {
   "cell_type": "markdown",
   "metadata": {
    "jp-MarkdownHeadingCollapsed": true,
    "tags": []
   },
   "source": [
    "### New cost"
   ]
  },
  {
   "cell_type": "code",
   "execution_count": 36,
   "metadata": {},
   "outputs": [
    {
     "data": {
      "text/plain": [
       "DeviceArray([[0., 0., 0., 0., 1., 0., 0.],\n",
       "             [0., 0., 0., 0., 0., 0., 1.],\n",
       "             [0., 0., 0., 0., 0., 1., 0.],\n",
       "             [0., 0., 0., 0., 1., 0., 0.],\n",
       "             [0., 0., 0., 0., 0., 1., 0.],\n",
       "             [0., 0., 0., 0., 0., 0., 1.],\n",
       "             [0., 0., 0., 0., 0., 0., 1.]], dtype=float32)"
      ]
     },
     "execution_count": 36,
     "metadata": {},
     "output_type": "execute_result"
    }
   ],
   "source": [
    "t_new"
   ]
  },
  {
   "cell_type": "code",
   "execution_count": 37,
   "metadata": {},
   "outputs": [
    {
     "data": {
      "text/plain": [
       "DeviceArray(17., dtype=float32)"
      ]
     },
     "execution_count": 37,
     "metadata": {},
     "output_type": "execute_result"
    },
    {
     "data": {
      "image/png": "[encoded data removed]",
      "text/plain": [
       "<Figure size 640x480 with 1 Axes>"
      ]
     },
     "metadata": {},
     "output_type": "display_data"
    }
   ],
   "source": [
    "compute_cost(discretized, t_new, 1)"
   ]
  },
  {
   "cell_type": "code",
   "execution_count": 38,
   "metadata": {},
   "outputs": [
    {
     "data": {
      "text/plain": [
       "DeviceArray([[0., 0., 0., 0., 1., 0., 0.],\n",
       "             [0., 0., 0., 0., 0., 0., 1.],\n",
       "             [0., 0., 0., 0., 0., 1., 0.],\n",
       "             [0., 0., 0., 0., 1., 0., 0.],\n",
       "             [0., 0., 0., 0., 0., 1., 0.],\n",
       "             [0., 0., 0., 0., 0., 0., 1.],\n",
       "             [0., 0., 0., 0., 0., 0., 1.]], dtype=float32)"
      ]
     },
     "execution_count": 38,
     "metadata": {},
     "output_type": "execute_result"
    }
   ],
   "source": [
    "t_new"
   ]
  },
  {
   "cell_type": "markdown",
   "metadata": {},
   "source": [
    "### Old cost"
   ]
  },
  {
   "cell_type": "code",
   "execution_count": 39,
   "metadata": {},
   "outputs": [
    {
     "data": {
      "text/plain": [
       "DeviceArray(38., dtype=float32)"
      ]
     },
     "execution_count": 39,
     "metadata": {},
     "output_type": "execute_result"
    }
   ],
   "source": [
    "compute_cost(seqs, base_tree) ##when d & e were all zeros"
   ]
  },
  {
   "cell_type": "markdown",
   "metadata": {},
   "source": [
    "### test arbitrary sequence for d & e"
   ]
  },
  {
   "cell_type": "code",
   "execution_count": 40,
   "metadata": {},
   "outputs": [],
   "source": [
    "test = jnp.array([[0, 0., 0., 0.],\n",
    "                 [1., 0., 0., 1.],\n",
    "                 [0., 1., 1., 0.],\n",
    "                 [0., 0., 0., 0.],\n",
    "                 [0., 0., 0., 0.]])"
   ]
  },
  {
   "cell_type": "code",
   "execution_count": 41,
   "metadata": {},
   "outputs": [],
   "source": [
    "# compute_cost(test, t_new)"
   ]
  },
  {
   "cell_type": "code",
   "execution_count": null,
   "metadata": {},
   "outputs": [],
   "source": []
  },
  {
   "cell_type": "code",
   "execution_count": null,
   "metadata": {},
   "outputs": [],
   "source": []
  },
  {
   "cell_type": "code",
   "execution_count": null,
   "metadata": {},
   "outputs": [],
   "source": []
  },
  {
   "cell_type": "code",
   "execution_count": null,
   "metadata": {},
   "outputs": [],
   "source": []
  },
  {
   "cell_type": "code",
   "execution_count": null,
   "metadata": {},
   "outputs": [],
   "source": []
  },
  {
   "cell_type": "code",
   "execution_count": null,
   "metadata": {},
   "outputs": [],
   "source": []
  }
 ],
 "metadata": {
  "kernelspec": {
   "display_name": "pytorch",
   "language": "python",
   "name": "pytorch"
  },
  "language_info": {
   "codemirror_mode": {
    "name": "ipython",
    "version": 3
   },
   "file_extension": ".py",
   "mimetype": "text/x-python",
   "name": "python",
   "nbconvert_exporter": "python",
   "pygments_lexer": "ipython3",
   "version": "3.9.13"
  }
 },
 "nbformat": 4,
 "nbformat_minor": 4
}
