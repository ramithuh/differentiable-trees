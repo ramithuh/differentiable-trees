{
  "cells": [
    {
      "cell_type": "markdown",
      "metadata": {
        "id": "view-in-github",
        "colab_type": "text"
      },
      "source": [
        "<a href=\"https://colab.research.google.com/github/ramithuh/differentiable-trees/blob/main/problem%202%20(differentiable%20ancestors).ipynb\" target=\"_parent\"><img src=\"https://colab.research.google.com/assets/colab-badge.svg\" alt=\"Open In Colab\"/></a>"
      ]
    },
    {
      "cell_type": "code",
      "source": [
        "%%bash\n",
        "[[ ! -e /content/sample_data ]] && exit  ## run this cell only in colab\n",
        " \n",
        "pip install optax -qqq\n",
        "pip install networkx==2.5 -qqq\n",
        "git clone https://github.com/ramithuh/differentiable-trees --quiet"
      ],
      "metadata": {
        "id": "7gdFAm0U93Ai"
      },
      "execution_count": 1,
      "outputs": []
    },
    {
      "cell_type": "code",
      "source": [],
      "metadata": {
        "id": "QJqx3tWzEdVX"
      },
      "execution_count": 1,
      "outputs": []
    },
    {
      "cell_type": "code",
      "execution_count": 2,
      "metadata": {
        "id": "_eFVIsIs9qF1"
      },
      "outputs": [],
      "source": [
        "%load_ext autoreload\n",
        "%autoreload 2\n",
        "\n",
        "import os\n",
        "import sys\n",
        "\n",
        "if(os.path.exists('/content/sample_data')):\n",
        "  sys.path.append('differentiable-trees/')\n",
        "\n",
        "import jax.numpy as jnp\n",
        "import jax.nn as nn\n",
        "import jax\n",
        "import optax\n",
        "import functools\n",
        "\n",
        "import pydot\n",
        "import numpy as np\n",
        "from helpers import *"
      ]
    },
    {
      "cell_type": "code",
      "source": [],
      "metadata": {
        "id": "mTi_7ECM926v"
      },
      "execution_count": 2,
      "outputs": []
    },
    {
      "cell_type": "code",
      "execution_count": 3,
      "metadata": {
        "id": "Zm3ji1oW9qF2",
        "outputId": "810fb676-8366-4603-8bb1-b8b0bb92e13f",
        "colab": {
          "base_uri": "https://localhost:8080/"
        }
      },
      "outputs": [
        {
          "output_type": "stream",
          "name": "stderr",
          "text": [
            "WARNING:absl:No GPU/TPU found, falling back to CPU. (Set TF_CPP_MIN_LOG_LEVEL=0 and rerun for more info.)\n"
          ]
        }
      ],
      "source": [
        "key = jax.random.PRNGKey(42)"
      ]
    },
    {
      "cell_type": "markdown",
      "metadata": {
        "id": "sbEteAn19qF3"
      },
      "source": [
        "## Sequences"
      ]
    },
    {
      "cell_type": "code",
      "execution_count": 4,
      "metadata": {
        "id": "coE3XIBt9qF4"
      },
      "outputs": [],
      "source": [
        "# sequences (fixed)\n",
        "n_leaves = 3\n",
        "\n",
        "a = jnp.array([1,0,0,0]) #slightly changed\n",
        "b = jnp.array([1,0,0,1])\n",
        "c = jnp.array([0,1,1,0])\n",
        "\n",
        "# ancestral sequences (???)\n",
        "d = jnp.array([0,0,0,0]) # ? \n",
        "e = jnp.array([0,0,0,0]) # ?"
      ]
    },
    {
      "cell_type": "code",
      "execution_count": 5,
      "metadata": {
        "id": "H1fcqlrc9qF5"
      },
      "outputs": [],
      "source": [
        "# similarity matrix (fixed)\n",
        "sm = jnp.array([[0,1],\n",
        "               [1,0]])"
      ]
    },
    {
      "cell_type": "code",
      "execution_count": 6,
      "metadata": {
        "id": "oRqxDgrQ9qF5"
      },
      "outputs": [],
      "source": [
        "seqs = jnp.array([a,b,c,d,e],dtype=np.float32)"
      ]
    },
    {
      "cell_type": "markdown",
      "metadata": {
        "id": "ODePtjvH9qF6"
      },
      "source": [
        "## Tree Topology"
      ]
    },
    {
      "cell_type": "code",
      "execution_count": 7,
      "metadata": {
        "id": "6vafFBvE9qF6"
      },
      "outputs": [],
      "source": [
        "# a-\\\n",
        "#   [d]---[e]\n",
        "# b-/     /\n",
        "#        /\n",
        "# c-----/\n",
        "\n",
        "# tree (???)\n",
        "#              a,b,c,d,e\n",
        "t = jnp.array([[0,0,0,1,0], # a\n",
        "               [0,0,0,1,0],  # b\n",
        "               [0,0,0,0,1],  # c\n",
        "               [0,0,0,0,1],  # d\n",
        "               [0,0,0,0,0]]) # e\n",
        "\n",
        "t = t.at[-1,-1].set(1) ### need to add this (so that the last sequence is matched with itself) "
      ]
    },
    {
      "cell_type": "code",
      "execution_count": 7,
      "metadata": {
        "id": "aUqO0V7K9qF6"
      },
      "outputs": [],
      "source": []
    },
    {
      "cell_type": "markdown",
      "metadata": {
        "id": "Z_8GxJKJ9qF7"
      },
      "source": [
        "### To generate a new topology run this line"
      ]
    },
    {
      "cell_type": "code",
      "execution_count": 8,
      "metadata": {
        "id": "WDQmCHko9qF7",
        "outputId": "f0028bde-2ffd-4e4b-9cc1-febce424ef1e",
        "colab": {
          "base_uri": "https://localhost:8080/",
          "height": 319
        }
      },
      "outputs": [
        {
          "output_type": "display_data",
          "data": {
            "text/plain": [
              "<Figure size 432x288 with 1 Axes>"
            ],
            "image/png": "[encoded data removed]"
          },
          "metadata": {}
        }
      ],
      "source": [
        "# t = generate_t(5) #for different topologies set seed = number\n",
        "# t = t.at[-1,-1].set(1) ### need to add this (so that the last sequence is matched with itself) \n",
        "show_graph_with_labels(t,n_leaves)"
      ]
    },
    {
      "cell_type": "code",
      "execution_count": 8,
      "metadata": {
        "id": "qXt5cDW49qF8"
      },
      "outputs": [],
      "source": []
    },
    {
      "cell_type": "code",
      "execution_count": 8,
      "metadata": {
        "id": "OJKnEeWX9qF9"
      },
      "outputs": [],
      "source": []
    },
    {
      "cell_type": "code",
      "execution_count": 8,
      "metadata": {
        "id": "911uLkPQ9qF9"
      },
      "outputs": [],
      "source": []
    },
    {
      "cell_type": "code",
      "execution_count": 9,
      "metadata": {
        "id": "bK7tRnIF9qF9",
        "outputId": "81f60dec-21a2-4332-f691-fed4d81a96b2",
        "colab": {
          "base_uri": "https://localhost:8080/"
        }
      },
      "outputs": [
        {
          "output_type": "execute_result",
          "data": {
            "text/plain": [
              "DeviceArray([[0, 0, 0, 1, 0],\n",
              "             [0, 0, 0, 1, 0],\n",
              "             [0, 0, 0, 0, 1],\n",
              "             [0, 0, 0, 0, 1],\n",
              "             [0, 0, 0, 0, 1]], dtype=int32)"
            ]
          },
          "metadata": {},
          "execution_count": 9
        }
      ],
      "source": [
        "t"
      ]
    },
    {
      "cell_type": "markdown",
      "metadata": {
        "id": "Ls39b5lF9qF9"
      },
      "source": [
        "### Function to compute total distance"
      ]
    },
    {
      "cell_type": "code",
      "execution_count": 10,
      "metadata": {
        "id": "alVLE4HC9qF-"
      },
      "outputs": [],
      "source": [
        "def compute_cost(sequences, tree, verbose = False):\n",
        "    if(verbose==True):\n",
        "        show_graph_with_labels(t,n_leaves)\n",
        "        \n",
        "    selection = jnp.matmul(tree,sequences)\n",
        "    \n",
        "#     #method 1: (downside needs integers as we are indexing)\n",
        "#     selection = selection.astype(int)\n",
        "#     ans = sm[selection,sequences].sum()\n",
        "    \n",
        "    #method 2:\n",
        "    ans = abs(selection - sequences).sum() ## works currently as sm is the basic config. need to think about extending\n",
        " \n",
        "    return ans"
      ]
    },
    {
      "cell_type": "code",
      "execution_count": 11,
      "metadata": {
        "id": "ZFk-qx039qF-",
        "outputId": "9edb9af6-9c61-4665-dd08-d4819b5595f1",
        "colab": {
          "base_uri": "https://localhost:8080/"
        }
      },
      "outputs": [
        {
          "output_type": "execute_result",
          "data": {
            "text/plain": [
              "DeviceArray([[1., 0., 0., 0.],\n",
              "             [1., 0., 0., 1.],\n",
              "             [0., 1., 1., 0.],\n",
              "             [0., 0., 0., 0.],\n",
              "             [0., 0., 0., 0.]], dtype=float32)"
            ]
          },
          "metadata": {},
          "execution_count": 11
        }
      ],
      "source": [
        "seqs"
      ]
    },
    {
      "cell_type": "code",
      "execution_count": 12,
      "metadata": {
        "id": "-N7efrD_9qF-",
        "outputId": "cfd919bb-4dfd-4911-d887-7dbdf00225ba",
        "colab": {
          "base_uri": "https://localhost:8080/"
        }
      },
      "outputs": [
        {
          "output_type": "execute_result",
          "data": {
            "text/plain": [
              "DeviceArray([[0, 0, 0, 1, 0],\n",
              "             [0, 0, 0, 1, 0],\n",
              "             [0, 0, 0, 0, 1],\n",
              "             [0, 0, 0, 0, 1],\n",
              "             [0, 0, 0, 0, 1]], dtype=int32)"
            ]
          },
          "metadata": {},
          "execution_count": 12
        }
      ],
      "source": [
        "t"
      ]
    },
    {
      "cell_type": "code",
      "execution_count": 13,
      "metadata": {
        "id": "FIjonDk79qF-",
        "outputId": "baf8da5c-4a09-48f5-8216-f14e0220d7ec",
        "colab": {
          "base_uri": "https://localhost:8080/",
          "height": 336
        }
      },
      "outputs": [
        {
          "output_type": "display_data",
          "data": {
            "text/plain": [
              "<Figure size 432x288 with 1 Axes>"
            ],
            "image/png": "[encoded data removed]"
          },
          "metadata": {}
        },
        {
          "output_type": "execute_result",
          "data": {
            "text/plain": [
              "DeviceArray(5., dtype=float32)"
            ]
          },
          "metadata": {},
          "execution_count": 13
        }
      ],
      "source": [
        "compute_cost(seqs,t,1)"
      ]
    },
    {
      "cell_type": "code",
      "execution_count": 13,
      "metadata": {
        "id": "xd7-IfKv9qF_"
      },
      "outputs": [],
      "source": []
    },
    {
      "cell_type": "markdown",
      "metadata": {
        "id": "_tXB_8hI9qF_"
      },
      "source": [
        "### Training"
      ]
    },
    {
      "cell_type": "markdown",
      "metadata": {
        "id": "Hu6Tgy6y9qF_"
      },
      "source": [
        "### initialize params"
      ]
    },
    {
      "cell_type": "code",
      "execution_count": 14,
      "metadata": {
        "id": "9PdwZt-49qF_"
      },
      "outputs": [],
      "source": [
        "optimizer = optax.adam(0.1)\n",
        "# params = {'d': jnp.array([0,0,0.0,0.0]), 'e': jnp.array([0,0.0,0,0.0])}\n",
        "\n",
        "params = {'d': jax.random.normal(key, (4,)), 'e': jax.random.normal(key, (4,))}\n",
        "\n",
        "\n",
        "opt_state = optimizer.init(params)"
      ]
    },
    {
      "cell_type": "code",
      "execution_count": 14,
      "metadata": {
        "id": "WPWB6cLO9qGA"
      },
      "outputs": [],
      "source": []
    },
    {
      "cell_type": "code",
      "execution_count": 15,
      "metadata": {
        "id": "6uJlVD989qGA",
        "outputId": "cd7040d3-98f3-4945-c234-9e5dc2a563cc",
        "colab": {
          "base_uri": "https://localhost:8080/"
        }
      },
      "outputs": [
        {
          "output_type": "execute_result",
          "data": {
            "text/plain": [
              "{'d': DeviceArray([ 0.18693547,  1.0653335 , -1.5593132 , -1.5352962 ], dtype=float32),\n",
              " 'e': DeviceArray([ 0.18693547,  1.0653335 , -1.5593132 , -1.5352962 ], dtype=float32)}"
            ]
          },
          "metadata": {},
          "execution_count": 15
        }
      ],
      "source": [
        "params"
      ]
    },
    {
      "cell_type": "code",
      "execution_count": 16,
      "metadata": {
        "id": "y4s5WSSZ9qGA"
      },
      "outputs": [],
      "source": [
        "def combine_to_seq(params, seqs, temperature = 1):\n",
        "    seqs = seqs.at[-2].set(seqs[-2] + nn.sigmoid(temperature*params['d']))\n",
        "    seqs = seqs.at[-1].set(seqs[-1] + nn.sigmoid(temperature*params['e']))\n",
        "    \n",
        "    return seqs"
      ]
    },
    {
      "cell_type": "code",
      "execution_count": 17,
      "metadata": {
        "id": "1WBsZZAe9qGA"
      },
      "outputs": [],
      "source": [
        "def compute_loss(params, seqs_, t):\n",
        "    seqs_ = combine_to_seq(params, seqs)\n",
        "    loss  = compute_cost(seqs_,t)\n",
        "    \n",
        "    return loss"
      ]
    },
    {
      "cell_type": "code",
      "execution_count": 18,
      "metadata": {
        "id": "na_y7Her9qGA",
        "outputId": "eb36d85d-8f3d-498b-dd57-e68fb8f97c55",
        "colab": {
          "base_uri": "https://localhost:8080/"
        }
      },
      "outputs": [
        {
          "output_type": "execute_result",
          "data": {
            "text/plain": [
              "DeviceArray(5.5480757, dtype=float32)"
            ]
          },
          "metadata": {},
          "execution_count": 18
        }
      ],
      "source": [
        "compute_loss(params, seqs, t)"
      ]
    },
    {
      "cell_type": "code",
      "execution_count": 19,
      "metadata": {
        "id": "xhBRjfCT9qGB",
        "outputId": "49b604f5-76a9-4264-914a-5a6bdbaa955f",
        "colab": {
          "base_uri": "https://localhost:8080/"
        }
      },
      "outputs": [
        {
          "output_type": "stream",
          "name": "stdout",
          "text": [
            "5.5480757\n",
            "4.0446763\n",
            "4.0176787\n",
            "4.009964\n",
            "4.0065446\n"
          ]
        }
      ],
      "source": [
        "for _ in range(500):\n",
        "    grads = jax.grad(compute_loss)(params, seqs, t)\n",
        "    \n",
        "    if(_%100==0):\n",
        "        print(compute_loss(params, seqs, t))\n",
        "    updates, opt_state = optimizer.update(grads, opt_state)\n",
        "    params = optax.apply_updates(params, updates)\n"
      ]
    },
    {
      "cell_type": "markdown",
      "metadata": {
        "id": "bvCae_G09qGB"
      },
      "source": [
        "## Retrieving the new sequences array"
      ]
    },
    {
      "cell_type": "code",
      "execution_count": 19,
      "metadata": {
        "id": "mBY4Soe_9qGC"
      },
      "outputs": [],
      "source": []
    },
    {
      "cell_type": "code",
      "execution_count": 19,
      "metadata": {
        "id": "-Mlb2vHc9qGC"
      },
      "outputs": [],
      "source": []
    },
    {
      "cell_type": "code",
      "execution_count": 20,
      "metadata": {
        "id": "EYKIzD6G9qGC"
      },
      "outputs": [],
      "source": [
        "discretized = jnp.round(combine_to_seq(params, seqs))"
      ]
    },
    {
      "cell_type": "code",
      "execution_count": 21,
      "metadata": {
        "id": "4mepJ9re9qGC",
        "outputId": "08660113-410c-42ab-d03d-765e26c922e6",
        "colab": {
          "base_uri": "https://localhost:8080/"
        }
      },
      "outputs": [
        {
          "output_type": "execute_result",
          "data": {
            "text/plain": [
              "DeviceArray([[1., 0., 0., 0.],\n",
              "             [1., 0., 0., 1.],\n",
              "             [0., 1., 1., 0.],\n",
              "             [1., 0., 0., 0.],\n",
              "             [0., 1., 0., 0.]], dtype=float32)"
            ]
          },
          "metadata": {},
          "execution_count": 21
        }
      ],
      "source": [
        "discretized"
      ]
    },
    {
      "cell_type": "markdown",
      "metadata": {
        "id": "v4vHM1gE9qGC"
      },
      "source": [
        "### New cost"
      ]
    },
    {
      "cell_type": "code",
      "execution_count": 22,
      "metadata": {
        "id": "X8_oTf0z9qGD",
        "outputId": "3f216b0c-c55d-4bad-8435-84a43c3f4182",
        "colab": {
          "base_uri": "https://localhost:8080/",
          "height": 336
        }
      },
      "outputs": [
        {
          "output_type": "display_data",
          "data": {
            "text/plain": [
              "<Figure size 432x288 with 1 Axes>"
            ],
            "image/png": "[encoded data removed]"
          },
          "metadata": {}
        },
        {
          "output_type": "execute_result",
          "data": {
            "text/plain": [
              "DeviceArray(4., dtype=float32)"
            ]
          },
          "metadata": {},
          "execution_count": 22
        }
      ],
      "source": [
        "compute_cost(discretized, t, 1)"
      ]
    },
    {
      "cell_type": "markdown",
      "metadata": {
        "id": "YnDqD4729qGD"
      },
      "source": [
        "### Old cost"
      ]
    },
    {
      "cell_type": "code",
      "execution_count": 23,
      "metadata": {
        "id": "t_qSvHs39qGD",
        "outputId": "23496f5e-0f3d-415b-c7df-5145db18d3b6",
        "colab": {
          "base_uri": "https://localhost:8080/"
        }
      },
      "outputs": [
        {
          "output_type": "execute_result",
          "data": {
            "text/plain": [
              "DeviceArray(5., dtype=float32)"
            ]
          },
          "metadata": {},
          "execution_count": 23
        }
      ],
      "source": [
        "compute_cost(seqs, t) ##when d & e were all zeros"
      ]
    },
    {
      "cell_type": "markdown",
      "metadata": {
        "id": "-48-WbUx9qGD"
      },
      "source": [
        "### test arbitrary sequence for d & e"
      ]
    },
    {
      "cell_type": "code",
      "execution_count": 24,
      "metadata": {
        "id": "UPt23dPa9qGE"
      },
      "outputs": [],
      "source": [
        "test = jnp.array([[0, 0., 0., 0.],\n",
        "                 [1., 0., 0., 1.],\n",
        "                 [0., 1., 1., 0.],\n",
        "                 [0., 0., 0., 0.],\n",
        "                 [0., 0., 0., 0.]])"
      ]
    },
    {
      "cell_type": "code",
      "execution_count": 25,
      "metadata": {
        "id": "f6KZTThI9qGE",
        "outputId": "0123e1e8-513c-42d0-9d97-99c71124b779",
        "colab": {
          "base_uri": "https://localhost:8080/"
        }
      },
      "outputs": [
        {
          "output_type": "execute_result",
          "data": {
            "text/plain": [
              "DeviceArray(4., dtype=float32)"
            ]
          },
          "metadata": {},
          "execution_count": 25
        }
      ],
      "source": [
        "compute_cost(test, t)"
      ]
    },
    {
      "cell_type": "code",
      "execution_count": 25,
      "metadata": {
        "id": "J20UGVF79qGE"
      },
      "outputs": [],
      "source": []
    },
    {
      "cell_type": "code",
      "execution_count": 25,
      "metadata": {
        "id": "dIrnn8HZ9qGE"
      },
      "outputs": [],
      "source": []
    },
    {
      "cell_type": "code",
      "execution_count": 25,
      "metadata": {
        "id": "q0mFZHFC9qGE"
      },
      "outputs": [],
      "source": []
    },
    {
      "cell_type": "code",
      "execution_count": 25,
      "metadata": {
        "id": "fDvjQlH-9qGE"
      },
      "outputs": [],
      "source": []
    },
    {
      "cell_type": "code",
      "execution_count": 25,
      "metadata": {
        "id": "zMQ6l-L69qGE"
      },
      "outputs": [],
      "source": []
    },
    {
      "cell_type": "code",
      "execution_count": 25,
      "metadata": {
        "id": "0GjCNc6-9qGF"
      },
      "outputs": [],
      "source": []
    }
  ],
  "metadata": {
    "kernelspec": {
      "display_name": "jax_env",
      "language": "python",
      "name": "jax_env"
    },
    "language_info": {
      "codemirror_mode": {
        "name": "ipython",
        "version": 3
      },
      "file_extension": ".py",
      "mimetype": "text/x-python",
      "name": "python",
      "nbconvert_exporter": "python",
      "pygments_lexer": "ipython3",
      "version": "3.6.13"
    },
    "colab": {
      "provenance": [],
      "include_colab_link": true
    }
  },
  "nbformat": 4,
  "nbformat_minor": 0
}