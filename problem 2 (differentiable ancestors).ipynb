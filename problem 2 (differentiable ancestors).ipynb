{
  "cells": [
    {
      "cell_type": "markdown",
      "metadata": {
        "id": "view-in-github",
        "colab_type": "text"
      },
      "source": [
        "<a href=\"https://colab.research.google.com/github/ramithuh/differentiable-trees/blob/main/problem%202%20(differentiable%20ancestors).ipynb\" target=\"_parent\"><img src=\"https://colab.research.google.com/assets/colab-badge.svg\" alt=\"Open In Colab\"/></a>"
      ]
    },
    {
      "cell_type": "code",
      "source": [
        "%%bash\n",
        "[[ ! -e /content/sample_data ]] && exit  ## run this cell only in colab\n",
        " \n",
        "pip install optax -qqq\n",
        "pip install networkx==2.5 -qqq\n",
        "git clone https://github.com/ramithuh/differentiable-trees --quiet"
      ],
      "metadata": {
        "id": "7gdFAm0U93Ai"
      },
      "execution_count": 1,
      "outputs": []
    },
    {
      "cell_type": "code",
      "source": [],
      "metadata": {
        "id": "QJqx3tWzEdVX"
      },
      "execution_count": 1,
      "outputs": []
    },
    {
      "cell_type": "code",
      "execution_count": 2,
      "metadata": {
        "id": "_eFVIsIs9qF1"
      },
      "outputs": [],
      "source": [
        "%load_ext autoreload\n",
        "%autoreload 2\n",
        "\n",
        "import os\n",
        "import sys\n",
        "\n",
        "if(os.path.exists('/content/sample_data')):\n",
        "  sys.path.append('differentiable-trees/')\n",
        "\n",
        "import jax.numpy as jnp\n",
        "import jax.nn as nn\n",
        "import jax\n",
        "import optax\n",
        "import functools\n",
        "\n",
        "import pydot\n",
        "import numpy as np\n",
        "from helpers import *"
      ]
    },
    {
      "cell_type": "code",
      "source": [],
      "metadata": {
        "id": "mTi_7ECM926v"
      },
      "execution_count": 2,
      "outputs": []
    },
    {
      "cell_type": "code",
      "execution_count": 3,
      "metadata": {
        "id": "Zm3ji1oW9qF2",
        "outputId": "38285333-4547-47cf-e878-88bc31781ccc",
        "colab": {
          "base_uri": "https://localhost:8080/"
        }
      },
      "outputs": [
        {
          "output_type": "stream",
          "name": "stderr",
          "text": [
            "WARNING:absl:No GPU/TPU found, falling back to CPU. (Set TF_CPP_MIN_LOG_LEVEL=0 and rerun for more info.)\n"
          ]
        }
      ],
      "source": [
        "key = jax.random.PRNGKey(42)"
      ]
    },
    {
      "cell_type": "markdown",
      "metadata": {
        "id": "sbEteAn19qF3"
      },
      "source": [
        "## Sequences"
      ]
    },
    {
      "cell_type": "code",
      "execution_count": 4,
      "metadata": {
        "id": "coE3XIBt9qF4"
      },
      "outputs": [],
      "source": [
        "# sequences (fixed)\n",
        "n_leaves = 3\n",
        "\n",
        "a = jnp.array([0,0,0,0]) \n",
        "b = jnp.array([1,0,0,1])\n",
        "c = jnp.array([0,1,1,0])\n",
        "\n",
        "# ancestral sequences (???)\n",
        "d = jnp.array([1,1,1,1]) # ? \n",
        "e = jnp.array([0,0,0,0]) # ?\n",
        "\n",
        "blank = jnp.array([0,0,0,0])"
      ]
    },
    {
      "cell_type": "code",
      "source": [],
      "metadata": {
        "id": "hrFHFT0fp8Be"
      },
      "execution_count": 4,
      "outputs": []
    },
    {
      "cell_type": "code",
      "execution_count": 5,
      "metadata": {
        "id": "H1fcqlrc9qF5"
      },
      "outputs": [],
      "source": [
        "# similarity matrix (fixed)\n",
        "sm = jnp.array([[0,1],\n",
        "               [1,0]])"
      ]
    },
    {
      "cell_type": "code",
      "execution_count": 6,
      "metadata": {
        "id": "oRqxDgrQ9qF5"
      },
      "outputs": [],
      "source": [
        "seqs = jnp.array([a,b,c,d,e],dtype=np.float32)"
      ]
    },
    {
      "cell_type": "code",
      "source": [
        "seqs"
      ],
      "metadata": {
        "id": "xHvDHqyDbZn3",
        "outputId": "49597a76-3d39-4ce0-8a51-76adad61a0d6",
        "colab": {
          "base_uri": "https://localhost:8080/"
        }
      },
      "execution_count": 7,
      "outputs": [
        {
          "output_type": "execute_result",
          "data": {
            "text/plain": [
              "DeviceArray([[0., 0., 0., 0.],\n",
              "             [1., 0., 0., 1.],\n",
              "             [0., 1., 1., 0.],\n",
              "             [1., 1., 1., 1.],\n",
              "             [0., 0., 0., 0.]], dtype=float32)"
            ]
          },
          "metadata": {},
          "execution_count": 7
        }
      ]
    },
    {
      "cell_type": "code",
      "source": [],
      "metadata": {
        "id": "esjZvokPbZtg"
      },
      "execution_count": 7,
      "outputs": []
    },
    {
      "cell_type": "markdown",
      "metadata": {
        "id": "ODePtjvH9qF6"
      },
      "source": [
        "## Tree Topology"
      ]
    },
    {
      "cell_type": "code",
      "execution_count": 8,
      "metadata": {
        "id": "6vafFBvE9qF6"
      },
      "outputs": [],
      "source": [
        "# a-\\\n",
        "#   [d]---[e]\n",
        "# b-/     /\n",
        "#        /\n",
        "# c-----/\n",
        "\n",
        "# tree (???)\n",
        "#               a,b,c,d,e\n",
        "t = jnp.array([[0,0,0,1,0],  # a\n",
        "               [0,0,0,1,0],  # b\n",
        "               [0,0,0,0,1],  # c\n",
        "               [0,0,0,0,1],  # d\n",
        "               [0,0,0,0,0]]) # e\n",
        "\n",
        "t = t.at[-1,-1].set(1) ### need to add this (so that the last sequence is matched with itself) "
      ]
    },
    {
      "cell_type": "code",
      "execution_count": 8,
      "metadata": {
        "id": "aUqO0V7K9qF6"
      },
      "outputs": [],
      "source": []
    },
    {
      "cell_type": "markdown",
      "metadata": {
        "id": "Z_8GxJKJ9qF7"
      },
      "source": [
        "### To generate a new topology run this line"
      ]
    },
    {
      "cell_type": "code",
      "execution_count": 9,
      "metadata": {
        "id": "WDQmCHko9qF7",
        "outputId": "71a9fdc1-844d-4aa0-8453-2a79a93411fe",
        "colab": {
          "base_uri": "https://localhost:8080/",
          "height": 319
        }
      },
      "outputs": [
        {
          "output_type": "display_data",
          "data": {
            "text/plain": [
              "<Figure size 432x288 with 1 Axes>"
            ],
            "image/png": "[encoded data removed]"
          },
          "metadata": {}
        }
      ],
      "source": [
        "# t = generate_t(5) #for different topologies set seed = number\n",
        "# t = t.at[-1,-1].set(1) ### need to add this (so that the last sequence is matched with itself) \n",
        "show_graph_with_labels(t,n_leaves)"
      ]
    },
    {
      "cell_type": "markdown",
      "metadata": {
        "id": "Ls39b5lF9qF9"
      },
      "source": [
        "### Function to compute total distance"
      ]
    },
    {
      "cell_type": "code",
      "execution_count": 10,
      "metadata": {
        "id": "alVLE4HC9qF-"
      },
      "outputs": [],
      "source": [
        "def compute_cost(sequences, tree, verbose = False):\n",
        "    if(verbose==True):\n",
        "        show_graph_with_labels(t,n_leaves)\n",
        "        \n",
        "    selection = jnp.matmul(tree,sequences)\n",
        "    # print(selection)\n",
        "    \n",
        "#     #method 1: (downside needs integers as we are indexing)\n",
        "#     selection = selection.astype(int)\n",
        "#     ans = sm[selection,sequences].sum()\n",
        "    \n",
        "    #method 2:\n",
        "    ans = abs(selection - sequences).sum() ## works currently as sm is the basic config. need to think about extending\n",
        " \n",
        "    return ans"
      ]
    },
    {
      "cell_type": "code",
      "execution_count": 11,
      "metadata": {
        "id": "ZFk-qx039qF-",
        "outputId": "ceb83054-d129-495c-cb38-afc67bbd6653",
        "colab": {
          "base_uri": "https://localhost:8080/"
        }
      },
      "outputs": [
        {
          "output_type": "execute_result",
          "data": {
            "text/plain": [
              "DeviceArray([[0., 0., 0., 0.],\n",
              "             [1., 0., 0., 1.],\n",
              "             [0., 1., 1., 0.],\n",
              "             [1., 1., 1., 1.],\n",
              "             [0., 0., 0., 0.]], dtype=float32)"
            ]
          },
          "metadata": {},
          "execution_count": 11
        }
      ],
      "source": [
        "seqs"
      ]
    },
    {
      "cell_type": "code",
      "execution_count": 12,
      "metadata": {
        "id": "-N7efrD_9qF-",
        "outputId": "eecf4bd5-4cb7-4058-942a-228bd958ee52",
        "colab": {
          "base_uri": "https://localhost:8080/"
        }
      },
      "outputs": [
        {
          "output_type": "execute_result",
          "data": {
            "text/plain": [
              "DeviceArray([[0, 0, 0, 1, 0],\n",
              "             [0, 0, 0, 1, 0],\n",
              "             [0, 0, 0, 0, 1],\n",
              "             [0, 0, 0, 0, 1],\n",
              "             [0, 0, 0, 0, 1]], dtype=int32)"
            ]
          },
          "metadata": {},
          "execution_count": 12
        }
      ],
      "source": [
        "t"
      ]
    },
    {
      "cell_type": "code",
      "execution_count": 13,
      "metadata": {
        "id": "FIjonDk79qF-",
        "outputId": "3b051967-c8cf-463b-8e23-f92df10288a4",
        "colab": {
          "base_uri": "https://localhost:8080/",
          "height": 336
        }
      },
      "outputs": [
        {
          "output_type": "display_data",
          "data": {
            "text/plain": [
              "<Figure size 432x288 with 1 Axes>"
            ],
            "image/png": "[encoded data removed]"
          },
          "metadata": {}
        },
        {
          "output_type": "execute_result",
          "data": {
            "text/plain": [
              "DeviceArray(12., dtype=float32)"
            ]
          },
          "metadata": {},
          "execution_count": 13
        }
      ],
      "source": [
        "compute_cost(seqs,t,1)"
      ]
    },
    {
      "cell_type": "code",
      "execution_count": 13,
      "metadata": {
        "id": "xd7-IfKv9qF_"
      },
      "outputs": [],
      "source": []
    },
    {
      "cell_type": "markdown",
      "metadata": {
        "id": "_tXB_8hI9qF_"
      },
      "source": [
        "### Training"
      ]
    },
    {
      "cell_type": "markdown",
      "metadata": {
        "id": "Hu6Tgy6y9qF_"
      },
      "source": [
        "### initialize params"
      ]
    },
    {
      "cell_type": "code",
      "execution_count": 14,
      "metadata": {
        "id": "9PdwZt-49qF_"
      },
      "outputs": [],
      "source": [
        "optimizer = optax.adam(.1)\n",
        "# params = {'d': jnp.array([0,0,0.0,0.0]), 'e': jnp.array([0,0.0,0,0.0])}\n",
        "\n",
        "params = {'d': jax.random.normal(key, (4,)), 'e': jax.random.normal(key, (4,))}\n",
        "\n",
        "\n",
        "opt_state = optimizer.init(params)"
      ]
    },
    {
      "cell_type": "code",
      "execution_count": 14,
      "metadata": {
        "id": "WPWB6cLO9qGA"
      },
      "outputs": [],
      "source": []
    },
    {
      "cell_type": "code",
      "execution_count": 15,
      "metadata": {
        "id": "6uJlVD989qGA",
        "outputId": "026a9724-17ea-431f-9e6a-0af74a26ef95",
        "colab": {
          "base_uri": "https://localhost:8080/"
        }
      },
      "outputs": [
        {
          "output_type": "execute_result",
          "data": {
            "text/plain": [
              "{'d': DeviceArray([ 0.18693547,  1.0653335 , -1.5593132 , -1.5352962 ], dtype=float32),\n",
              " 'e': DeviceArray([ 0.18693547,  1.0653335 , -1.5593132 , -1.5352962 ], dtype=float32)}"
            ]
          },
          "metadata": {},
          "execution_count": 15
        }
      ],
      "source": [
        "params"
      ]
    },
    {
      "cell_type": "code",
      "execution_count": 16,
      "metadata": {
        "id": "y4s5WSSZ9qGA"
      },
      "outputs": [],
      "source": [
        "def combine_to_seq(params, seqs, temperature = 1):\n",
        "    seqs = seqs.at[-2].set(nn.sigmoid(temperature*params['d']))\n",
        "    seqs = seqs.at[-1].set(nn.sigmoid(temperature*params['e']))\n",
        "    \n",
        "    return seqs"
      ]
    },
    {
      "cell_type": "code",
      "execution_count": 17,
      "metadata": {
        "id": "1WBsZZAe9qGA"
      },
      "outputs": [],
      "source": [
        "def compute_loss(params, seqs_, t):\n",
        "    seqs_ = combine_to_seq(params, seqs)\n",
        "    \n",
        "    loss  = compute_cost(seqs_,t)\n",
        "    \n",
        "    return loss"
      ]
    },
    {
      "cell_type": "code",
      "execution_count": 18,
      "metadata": {
        "id": "na_y7Her9qGA",
        "outputId": "c2f44550-2681-4423-ad69-90cf1ec51af5",
        "colab": {
          "base_uri": "https://localhost:8080/"
        }
      },
      "outputs": [
        {
          "output_type": "execute_result",
          "data": {
            "text/plain": [
              "DeviceArray(5.6412725, dtype=float32)"
            ]
          },
          "metadata": {},
          "execution_count": 18
        }
      ],
      "source": [
        "compute_loss(params, seqs, t)"
      ]
    },
    {
      "cell_type": "code",
      "execution_count": 19,
      "metadata": {
        "id": "xhBRjfCT9qGB",
        "outputId": "9075db9d-1776-4093-ca39-7e75f8ecf183",
        "colab": {
          "base_uri": "https://localhost:8080/"
        }
      },
      "outputs": [
        {
          "output_type": "stream",
          "name": "stdout",
          "text": [
            "5.64127 seq = {[0.54659826 0.7437085  0.17374523 0.1772201 ] , [0.54659826 0.7437085  0.17374523 0.1772201 ]}\n",
            "4.07052 seq = {[0.03951567 0.01393093 0.00405536 0.01298501] , [0.03953307 0.7437085  0.17374523 0.01286346]}\n",
            "4.02659 seq = {[0.0141719  0.00540679 0.00167978 0.00522486] , [0.01422665 0.7437085  0.17374523 0.00519177]}\n",
            "4.01474 seq = {[0.00779098 0.00303142 0.00095948 0.00295873] , [0.0077801  0.7437085  0.17374523 0.00294676]}\n",
            "4.00962 seq = {[0.00505064 0.0019857  0.00063398 0.00194916] , [0.00504386 0.7437085  0.17374523 0.00194101]}\n",
            "4.00686 seq = {[0.00359249 0.00141966 0.00045549 0.00139591] , [0.0035828  0.7437085  0.17374523 0.00139404]}\n",
            "4.00518 seq = {[0.00270466 0.0010737  0.00034557 0.00105764] , [0.00270184 0.7437085  0.17374523 0.00105697]}\n",
            "4.00407 seq = {[0.00212037 0.00084452 0.00027239 0.00083331] , [0.0021212  0.7437085  0.17374523 0.00083236]}\n",
            "4.00330 seq = {[0.00171553 0.00068372 0.00022086 0.00067482] , [1.7122298e-03 7.4370849e-01 1.7374523e-01 6.7518139e-04]}\n",
            "4.00273 seq = {[0.00141656 0.00056595 0.00018303 0.00055894] , [1.4169147e-03 7.4370849e-01 1.7374523e-01 5.5933284e-04]}\n",
            "4.00230 seq = {[0.00119319 0.00047674 0.00015432 0.00047148] , [1.1911388e-03 7.4370849e-01 1.7374523e-01 4.7108927e-04]}\n",
            "4.00196 seq = {[0.00101805 0.00040733 0.00013194 0.00040309] , [1.0174181e-03 7.4370849e-01 1.7374523e-01 4.0266503e-04]}\n",
            "4.00169 seq = {[0.00087902 0.00035213 0.00011413 0.00034845] , [8.7940553e-04 7.4370849e-01 1.7374523e-01 3.4837864e-04]}\n",
            "4.00148 seq = {[7.6730084e-04 3.0741611e-04 9.9683246e-05 3.0437671e-04] , [7.6698029e-04 7.4370849e-01 1.7374523e-01 3.0417886e-04]}\n",
            "4.00130 seq = {[6.7503203e-04 2.7063265e-04 8.7790759e-05 2.6815437e-04] , [6.7503372e-04 7.4370849e-01 1.7374523e-01 2.6774255e-04]}\n"
          ]
        }
      ],
      "source": [
        "for _ in range(1500):\n",
        "    grads = jax.grad(compute_loss)(params, seqs, t)\n",
        "    \n",
        "  \n",
        "    if(_%100==0):\n",
        "        temp = combine_to_seq(params, seqs)\n",
        "        print(\"{:.5f}\".format(compute_loss(params, seqs, t)),end = \" seq = {\")\n",
        "        print(temp[-2],\",\",temp[-1],end=\"}\\n\")\n",
        "        #print(\"new seq -> \\n\" , temp[-2],temp[-1], end = \")\\n\")\n",
        "       \n",
        "    updates, opt_state = optimizer.update(grads, opt_state)\n",
        "    params = optax.apply_updates(params, updates)\n"
      ]
    },
    {
      "cell_type": "markdown",
      "metadata": {
        "id": "bvCae_G09qGB"
      },
      "source": [
        "## Retrieving the new sequences array"
      ]
    },
    {
      "cell_type": "code",
      "execution_count": 19,
      "metadata": {
        "id": "mBY4Soe_9qGC"
      },
      "outputs": [],
      "source": []
    },
    {
      "cell_type": "code",
      "execution_count": 20,
      "metadata": {
        "id": "-Mlb2vHc9qGC"
      },
      "outputs": [],
      "source": [
        "temp = combine_to_seq(params, seqs)"
      ]
    },
    {
      "cell_type": "code",
      "source": [],
      "metadata": {
        "id": "kPsX6N3is8T_"
      },
      "execution_count": 20,
      "outputs": []
    },
    {
      "cell_type": "code",
      "execution_count": 21,
      "metadata": {
        "id": "EYKIzD6G9qGC"
      },
      "outputs": [],
      "source": [
        "discretized = jnp.round(combine_to_seq(params, seqs))"
      ]
    },
    {
      "cell_type": "code",
      "execution_count": 22,
      "metadata": {
        "id": "4mepJ9re9qGC",
        "outputId": "7bb9e3d8-d542-40fe-83d9-6d6f6b9ab5aa",
        "colab": {
          "base_uri": "https://localhost:8080/"
        }
      },
      "outputs": [
        {
          "output_type": "execute_result",
          "data": {
            "text/plain": [
              "DeviceArray([[0., 0., 0., 0.],\n",
              "             [1., 0., 0., 1.],\n",
              "             [0., 1., 1., 0.],\n",
              "             [0., 0., 0., 0.],\n",
              "             [0., 1., 0., 0.]], dtype=float32)"
            ]
          },
          "metadata": {},
          "execution_count": 22
        }
      ],
      "source": [
        "discretized"
      ]
    },
    {
      "cell_type": "markdown",
      "metadata": {
        "id": "v4vHM1gE9qGC"
      },
      "source": [
        "### New cost"
      ]
    },
    {
      "cell_type": "code",
      "execution_count": 23,
      "metadata": {
        "id": "X8_oTf0z9qGD",
        "outputId": "27a2ee29-9fd4-45cd-cb7f-670ea0c37a65",
        "colab": {
          "base_uri": "https://localhost:8080/",
          "height": 336
        }
      },
      "outputs": [
        {
          "output_type": "display_data",
          "data": {
            "text/plain": [
              "<Figure size 432x288 with 1 Axes>"
            ],
            "image/png": "[encoded data removed]"
          },
          "metadata": {}
        },
        {
          "output_type": "execute_result",
          "data": {
            "text/plain": [
              "DeviceArray(4., dtype=float32)"
            ]
          },
          "metadata": {},
          "execution_count": 23
        }
      ],
      "source": [
        "compute_cost(discretized, t, 1)"
      ]
    },
    {
      "cell_type": "code",
      "source": [],
      "metadata": {
        "id": "GFqhVjKqu0wf"
      },
      "execution_count": null,
      "outputs": []
    },
    {
      "cell_type": "markdown",
      "metadata": {
        "id": "YnDqD4729qGD"
      },
      "source": [
        "### Old cost"
      ]
    },
    {
      "cell_type": "code",
      "execution_count": 24,
      "metadata": {
        "id": "t_qSvHs39qGD",
        "outputId": "9481152f-929a-46f2-c8d7-f3053374b362",
        "colab": {
          "base_uri": "https://localhost:8080/"
        }
      },
      "outputs": [
        {
          "output_type": "execute_result",
          "data": {
            "text/plain": [
              "DeviceArray(12., dtype=float32)"
            ]
          },
          "metadata": {},
          "execution_count": 24
        }
      ],
      "source": [
        "compute_cost(seqs, t) ##when d & e were all zeros"
      ]
    },
    {
      "cell_type": "markdown",
      "metadata": {
        "id": "-48-WbUx9qGD"
      },
      "source": [
        "### test arbitrary sequence for d & e"
      ]
    },
    {
      "cell_type": "code",
      "execution_count": 25,
      "metadata": {
        "id": "UPt23dPa9qGE"
      },
      "outputs": [],
      "source": [
        "test = jnp.array([[1, 0., 0., 0.],\n",
        "                  [1., 0., 0., 1.],\n",
        "                  [0., 1., 1., 0.],\n",
        "                  [0., 0., 0., 0.],\n",
        "                  [0., 0., 0., 0.]])"
      ]
    },
    {
      "cell_type": "code",
      "execution_count": 26,
      "metadata": {
        "id": "f6KZTThI9qGE",
        "outputId": "e7c0287c-c943-4caa-b37b-e9a7089e40ee",
        "colab": {
          "base_uri": "https://localhost:8080/"
        }
      },
      "outputs": [
        {
          "output_type": "execute_result",
          "data": {
            "text/plain": [
              "DeviceArray(5., dtype=float32)"
            ]
          },
          "metadata": {},
          "execution_count": 26
        }
      ],
      "source": [
        "compute_cost(test, t)"
      ]
    },
    {
      "cell_type": "code",
      "execution_count": 26,
      "metadata": {
        "id": "J20UGVF79qGE"
      },
      "outputs": [],
      "source": []
    },
    {
      "cell_type": "code",
      "execution_count": 26,
      "metadata": {
        "id": "dIrnn8HZ9qGE"
      },
      "outputs": [],
      "source": []
    },
    {
      "cell_type": "code",
      "execution_count": 26,
      "metadata": {
        "id": "q0mFZHFC9qGE"
      },
      "outputs": [],
      "source": []
    },
    {
      "cell_type": "code",
      "execution_count": 26,
      "metadata": {
        "id": "fDvjQlH-9qGE"
      },
      "outputs": [],
      "source": []
    },
    {
      "cell_type": "code",
      "execution_count": 26,
      "metadata": {
        "id": "zMQ6l-L69qGE"
      },
      "outputs": [],
      "source": []
    },
    {
      "cell_type": "code",
      "execution_count": 26,
      "metadata": {
        "id": "0GjCNc6-9qGF"
      },
      "outputs": [],
      "source": []
    }
  ],
  "metadata": {
    "kernelspec": {
      "display_name": "jax_env",
      "language": "python",
      "name": "jax_env"
    },
    "language_info": {
      "codemirror_mode": {
        "name": "ipython",
        "version": 3
      },
      "file_extension": ".py",
      "mimetype": "text/x-python",
      "name": "python",
      "nbconvert_exporter": "python",
      "pygments_lexer": "ipython3",
      "version": "3.6.13"
    },
    "colab": {
      "provenance": [],
      "include_colab_link": true
    }
  },
  "nbformat": 4,
  "nbformat_minor": 0
}