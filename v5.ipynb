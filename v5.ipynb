{
 "cells": [
  {
   "cell_type": "code",
   "execution_count": 1,
   "metadata": {},
   "outputs": [],
   "source": [
    "%%bash\n",
    "[[ ! -e /content/sample_data ]] && exit  ## run this cell only in colab\n",
    " \n",
    "pip install optax -qqq\n",
    "pip install networkx==2.5 -qqq\n",
    "pip install netgraph\n",
    "git clone https://github.com/ramithuh/differentiable-trees --quiet"
   ]
  },
  {
   "cell_type": "code",
   "execution_count": 2,
   "metadata": {},
   "outputs": [],
   "source": [
    "%load_ext autoreload\n",
    "%autoreload 2\n",
    "\n",
    "import os\n",
    "import sys\n",
    "\n",
    "if(os.path.exists('/content/sample_data')):\n",
    "  sys.path.append('differentiable-trees/')\n",
    "\n",
    "import jax.numpy as jnp\n",
    "import jax.nn as nn\n",
    "import jax\n",
    "import optax\n",
    "import functools\n",
    "\n",
    "import pydot\n",
    "import numpy as np\n",
    "from helpers import *\n",
    "\n",
    "from matplotlib import rc\n",
    "rc('animation', html='jshtml')"
   ]
  },
  {
   "cell_type": "code",
   "execution_count": 3,
   "metadata": {},
   "outputs": [],
   "source": [
    "key = jax.random.PRNGKey(42)"
   ]
  },
  {
   "cell_type": "markdown",
   "metadata": {},
   "source": [
    "## Sequences"
   ]
  },
  {
   "cell_type": "code",
   "execution_count": 4,
   "metadata": {},
   "outputs": [],
   "source": [
    "# sequences (fixed)\n",
    "n_leaves    = 7\n",
    "n_ancestors = n_leaves - 1\n",
    "\n",
    "seq_length = 4\n",
    "\n",
    "n_all = n_leaves + n_ancestors\n",
    "\n",
    "metadata = {\n",
    "            'n_all' : n_all,\n",
    "            'n_leaves' : n_leaves, \n",
    "            'n_ancestors' : n_ancestors \n",
    "            }\n",
    "\n",
    "blank = jnp.array([0,0,0,0])"
   ]
  },
  {
   "cell_type": "code",
   "execution_count": null,
   "metadata": {},
   "outputs": [],
   "source": []
  },
  {
   "cell_type": "code",
   "execution_count": null,
   "metadata": {},
   "outputs": [],
   "source": []
  },
  {
   "cell_type": "code",
   "execution_count": 5,
   "metadata": {},
   "outputs": [],
   "source": [
    "# similarity matrix (fixed)\n",
    "sm = jnp.array([[0,1],\n",
    "               [1,0]])"
   ]
  },
  {
   "cell_type": "code",
   "execution_count": 6,
   "metadata": {},
   "outputs": [],
   "source": [
    "seqs = jax.random.randint(key, shape = (n_all, seq_length), minval = 0, maxval = 2)"
   ]
  },
  {
   "cell_type": "code",
   "execution_count": 7,
   "metadata": {},
   "outputs": [],
   "source": [
    "base_tree = jnp.zeros((n_all, n_all))"
   ]
  },
  {
   "cell_type": "code",
   "execution_count": null,
   "metadata": {},
   "outputs": [],
   "source": []
  },
  {
   "cell_type": "code",
   "execution_count": 8,
   "metadata": {},
   "outputs": [
    {
     "data": {
      "text/plain": [
       "DeviceArray([[1, 0, 1, 0],\n",
       "             [0, 1, 1, 0],\n",
       "             [1, 1, 1, 0],\n",
       "             [1, 0, 0, 0],\n",
       "             [0, 0, 0, 0],\n",
       "             [1, 0, 1, 1],\n",
       "             [1, 0, 1, 1],\n",
       "             [0, 1, 0, 1],\n",
       "             [0, 1, 0, 1],\n",
       "             [1, 0, 1, 1],\n",
       "             [0, 0, 0, 0],\n",
       "             [0, 0, 1, 1],\n",
       "             [1, 1, 1, 0]], dtype=int32)"
      ]
     },
     "execution_count": 8,
     "metadata": {},
     "output_type": "execute_result"
    }
   ],
   "source": [
    "seqs"
   ]
  },
  {
   "cell_type": "markdown",
   "metadata": {},
   "source": [
    "## Tree Topology (also parameterized)"
   ]
  },
  {
   "cell_type": "markdown",
   "metadata": {},
   "source": [
    "### initialize parameters"
   ]
  },
  {
   "cell_type": "code",
   "execution_count": 9,
   "metadata": {},
   "outputs": [],
   "source": [
    "optimizer = optax.adam(1)\n",
    "\n",
    "params = {'t': jax.random.normal(key, (n_all - 1,n_ancestors))}\n",
    "\n",
    "\n",
    "for i in range(0, n_ancestors):\n",
    "    params[chr(97+i + n_leaves)] = jax.random.normal(key, (seq_length,))\n",
    "    \n",
    "\n",
    "opt_state = optimizer.init(params)"
   ]
  },
  {
   "cell_type": "code",
   "execution_count": 10,
   "metadata": {},
   "outputs": [
    {
     "data": {
      "text/plain": [
       "dict_keys(['t', 'h', 'i', 'j', 'k', 'l', 'm'])"
      ]
     },
     "execution_count": 10,
     "metadata": {},
     "output_type": "execute_result"
    }
   ],
   "source": [
    "params.keys()"
   ]
  },
  {
   "cell_type": "code",
   "execution_count": null,
   "metadata": {},
   "outputs": [],
   "source": []
  },
  {
   "cell_type": "code",
   "execution_count": 11,
   "metadata": {},
   "outputs": [],
   "source": [
    "# t_q = jnp.argmax(t_softmax,axis = 1).T"
   ]
  },
  {
   "cell_type": "code",
   "execution_count": 12,
   "metadata": {},
   "outputs": [
    {
     "data": {
      "text/plain": [
       "(13, 13)"
      ]
     },
     "execution_count": 12,
     "metadata": {},
     "output_type": "execute_result"
    }
   ],
   "source": [
    "base_tree.shape"
   ]
  },
  {
   "cell_type": "code",
   "execution_count": null,
   "metadata": {},
   "outputs": [],
   "source": []
  },
  {
   "cell_type": "code",
   "execution_count": null,
   "metadata": {},
   "outputs": [],
   "source": [
    "\n",
    "    "
   ]
  },
  {
   "cell_type": "code",
   "execution_count": null,
   "metadata": {},
   "outputs": [],
   "source": []
  },
  {
   "cell_type": "code",
   "execution_count": null,
   "metadata": {},
   "outputs": [],
   "source": []
  },
  {
   "cell_type": "code",
   "execution_count": null,
   "metadata": {},
   "outputs": [],
   "source": []
  },
  {
   "cell_type": "code",
   "execution_count": 13,
   "metadata": {},
   "outputs": [
    {
     "data": {
      "image/png": "[encoded data removed]",
      "text/plain": [
       "<Figure size 432x288 with 1 Axes>"
      ]
     },
     "metadata": {},
     "output_type": "display_data"
    }
   ],
   "source": [
    "show_graph_with_labels(discretize_tree_topology(update_tree(params, base_tree), n_all),n_leaves)"
   ]
  },
  {
   "cell_type": "code",
   "execution_count": null,
   "metadata": {},
   "outputs": [],
   "source": []
  },
  {
   "cell_type": "code",
   "execution_count": null,
   "metadata": {},
   "outputs": [],
   "source": []
  },
  {
   "cell_type": "code",
   "execution_count": null,
   "metadata": {},
   "outputs": [],
   "source": []
  },
  {
   "cell_type": "code",
   "execution_count": null,
   "metadata": {},
   "outputs": [],
   "source": []
  },
  {
   "cell_type": "code",
   "execution_count": null,
   "metadata": {},
   "outputs": [],
   "source": []
  },
  {
   "cell_type": "markdown",
   "metadata": {},
   "source": [
    "### Function to compute total distance"
   ]
  },
  {
   "cell_type": "code",
   "execution_count": 14,
   "metadata": {},
   "outputs": [],
   "source": [
    "def compute_cost(sequences, tree, verbose = False, average = True):\n",
    "    if(verbose==True):\n",
    "        show_graph_with_labels(discretize_tree_topology(tree, n_all),n_leaves)\n",
    "        \n",
    "    selection = jnp.matmul(tree,sequences)\n",
    "    # print(selection)\n",
    "    \n",
    "#     #method 1: (downside needs integers as we are indexing)\n",
    "#     selection = selection.astype(int)\n",
    "#     ans = sm[selection,sequences].sum()\n",
    "    \n",
    "    #method 2:\n",
    "    if(average):\n",
    "        ans = abs(selection - sequences).sum() ## works currently as sm is the basic config. need to think about extending\n",
    "    else:\n",
    "        ans = jnp.sum(abs(selection - sequences), axis = 1)\n",
    "    \n",
    "    return ans"
   ]
  },
  {
   "cell_type": "code",
   "execution_count": null,
   "metadata": {},
   "outputs": [],
   "source": []
  },
  {
   "cell_type": "code",
   "execution_count": 15,
   "metadata": {},
   "outputs": [
    {
     "data": {
      "text/plain": [
       "DeviceArray([[0.        , 0.        , 0.        , 0.        , 0.        ,\n",
       "              0.        , 0.        , 0.13910422, 0.34845117, 0.21330582,\n",
       "              0.04044172, 0.14791861, 0.11077841],\n",
       "             [0.        , 0.        , 0.        , 0.        , 0.        ,\n",
       "              0.        , 0.        , 0.27657446, 0.17563644, 0.07084966,\n",
       "              0.15842403, 0.07731151, 0.24120387],\n",
       "             [0.        , 0.        , 0.        , 0.        , 0.        ,\n",
       "              0.        , 0.        , 0.10724179, 0.08720998, 0.19859421,\n",
       "              0.30010968, 0.12557727, 0.18126707],\n",
       "             [0.        , 0.        , 0.        , 0.        , 0.        ,\n",
       "              0.        , 0.        , 0.06070831, 0.10982104, 0.3455469 ,\n",
       "              0.14241804, 0.15635832, 0.18514742],\n",
       "             [0.        , 0.        , 0.        , 0.        , 0.        ,\n",
       "              0.        , 0.        , 0.10889674, 0.03192557, 0.16744772,\n",
       "              0.02538426, 0.5823018 , 0.08404393],\n",
       "             [0.        , 0.        , 0.        , 0.        , 0.        ,\n",
       "              0.        , 0.        , 0.06497585, 0.07057092, 0.27023548,\n",
       "              0.11804719, 0.43120018, 0.04497043],\n",
       "             [0.        , 0.        , 0.        , 0.        , 0.        ,\n",
       "              0.        , 0.        , 0.03658111, 0.37499553, 0.21662506,\n",
       "              0.0751453 , 0.21947113, 0.07718184],\n",
       "             [0.        , 0.        , 0.        , 0.        , 0.        ,\n",
       "              0.        , 0.        , 0.16035402, 0.18589187, 0.23827241,\n",
       "              0.07461479, 0.22951318, 0.1113537 ],\n",
       "             [0.        , 0.        , 0.        , 0.        , 0.        ,\n",
       "              0.        , 0.        , 0.13572197, 0.3339709 , 0.03290579,\n",
       "              0.05967266, 0.055445  , 0.3822837 ],\n",
       "             [0.        , 0.        , 0.        , 0.        , 0.        ,\n",
       "              0.        , 0.        , 0.04091162, 0.04155539, 0.15217413,\n",
       "              0.10022562, 0.16167182, 0.5034614 ],\n",
       "             [0.        , 0.        , 0.        , 0.        , 0.        ,\n",
       "              0.        , 0.        , 0.37708345, 0.15095071, 0.13898061,\n",
       "              0.24142012, 0.05435428, 0.03721089],\n",
       "             [0.        , 0.        , 0.        , 0.        , 0.        ,\n",
       "              0.        , 0.        , 0.0681266 , 0.12177537, 0.12806147,\n",
       "              0.5024139 , 0.07690385, 0.10271882],\n",
       "             [0.        , 0.        , 0.        , 0.        , 0.        ,\n",
       "              0.        , 0.        , 0.        , 0.        , 0.        ,\n",
       "              0.        , 0.        , 1.        ]], dtype=float32)"
      ]
     },
     "execution_count": 15,
     "metadata": {},
     "output_type": "execute_result"
    }
   ],
   "source": [
    "update_tree(params, base_tree)"
   ]
  },
  {
   "cell_type": "code",
   "execution_count": 16,
   "metadata": {},
   "outputs": [
    {
     "data": {
      "text/plain": [
       "DeviceArray(22.603205, dtype=float32)"
      ]
     },
     "execution_count": 16,
     "metadata": {},
     "output_type": "execute_result"
    },
    {
     "data": {
      "image/png": "[encoded data removed]",
      "text/plain": [
       "<Figure size 432x288 with 1 Axes>"
      ]
     },
     "metadata": {},
     "output_type": "display_data"
    }
   ],
   "source": [
    "compute_cost(seqs,update_tree(params, base_tree),1)"
   ]
  },
  {
   "cell_type": "code",
   "execution_count": null,
   "metadata": {},
   "outputs": [],
   "source": []
  },
  {
   "cell_type": "code",
   "execution_count": 17,
   "metadata": {},
   "outputs": [
    {
     "data": {
      "text/plain": [
       "{'t': DeviceArray([[ 0.05399319,  0.97226787,  0.48149663, -1.1813684 ,\n",
       "                0.11543203, -0.1736983 ],\n",
       "              [ 0.4207868 , -0.03327714, -0.94113314, -0.1364181 ,\n",
       "               -0.8538505 ,  0.28394914],\n",
       "              [-0.8156667 , -1.0224338 , -0.19948915,  0.21339531,\n",
       "               -0.65783155, -0.2907813 ],\n",
       "              [-0.94912165, -0.35635012,  0.7899262 , -0.09643552,\n",
       "               -0.00305201,  0.16595015],\n",
       "              [ 0.27988997, -0.94710296,  0.710161  , -1.1763811 ,\n",
       "                1.9564787 ,  0.02082947],\n",
       "              [-0.31057647, -0.22797403,  1.1147015 ,  0.2864924 ,\n",
       "                1.5819802 , -0.67858696],\n",
       "              [-0.98748755,  1.3398945 ,  0.7911485 , -0.26759598,\n",
       "                0.8042011 , -0.24085546],\n",
       "              [ 0.3299379 ,  0.47771922,  0.7259686 , -0.43510723,\n",
       "                0.6885145 , -0.0347344 ],\n",
       "              [ 1.1832725 ,  2.0837178 , -0.23368722,  0.36153802,\n",
       "                0.28805566,  2.218827  ],\n",
       "              [-0.6282728 , -0.61265975,  0.68533844,  0.26773706,\n",
       "                0.74588156,  1.8818202 ],\n",
       "              [ 1.3267592 ,  0.41124606,  0.32862714,  0.88083124,\n",
       "               -0.61018395, -0.9891057 ],\n",
       "              [-0.01376669,  0.5670439 ,  0.617376  ,  1.9842901 ,\n",
       "                0.10742175,  0.39686117]], dtype=float32),\n",
       " 'h': DeviceArray([ 0.18693547,  1.0653336 , -1.5593132 , -1.5352962 ], dtype=float32),\n",
       " 'i': DeviceArray([ 0.18693547,  1.0653336 , -1.5593132 , -1.5352962 ], dtype=float32),\n",
       " 'j': DeviceArray([ 0.18693547,  1.0653336 , -1.5593132 , -1.5352962 ], dtype=float32),\n",
       " 'k': DeviceArray([ 0.18693547,  1.0653336 , -1.5593132 , -1.5352962 ], dtype=float32),\n",
       " 'l': DeviceArray([ 0.18693547,  1.0653336 , -1.5593132 , -1.5352962 ], dtype=float32),\n",
       " 'm': DeviceArray([ 0.18693547,  1.0653336 , -1.5593132 , -1.5352962 ], dtype=float32)}"
      ]
     },
     "execution_count": 17,
     "metadata": {},
     "output_type": "execute_result"
    }
   ],
   "source": [
    "params"
   ]
  },
  {
   "cell_type": "code",
   "execution_count": 18,
   "metadata": {},
   "outputs": [
    {
     "data": {
      "text/plain": [
       "13"
      ]
     },
     "execution_count": 18,
     "metadata": {},
     "output_type": "execute_result"
    }
   ],
   "source": [
    "n_all"
   ]
  },
  {
   "cell_type": "code",
   "execution_count": 19,
   "metadata": {},
   "outputs": [],
   "source": [
    "# tree_force_loss = 0 \n",
    "\n",
    "# t_new = discretize_tree_topology(update_tree(params, base_tree), n_leaves + n_ancestors)\n",
    "\n",
    "# for k in range(n_all - 1, n_all - 1 - n_ancestors, -1):\n",
    "#     tree_force_loss += (abs(t_new[:-1,k].sum()-2))**2\n",
    "\n",
    "# print(tree_force_loss)"
   ]
  },
  {
   "cell_type": "code",
   "execution_count": null,
   "metadata": {},
   "outputs": [],
   "source": []
  },
  {
   "cell_type": "code",
   "execution_count": 20,
   "metadata": {},
   "outputs": [],
   "source": [
    "def regularize_graph(t_, s, verbose = False):\n",
    "    \n",
    "    tree_force_loss = jnp.sum(jnp.power(s*jnp.abs(jnp.sum(t_[:-1, n_all - n_ancestors: n_all], axis = 0) - 2),2))\n",
    "    \n",
    "    #tree_force_loss = (s*abs(t_[:-1,-2].sum()-2))**2 + (s*abs(t_[:-1,-1].sum()-2))**2\n",
    "    \n",
    "    loop_loss = jnp.multiply(jnp.identity(n_all-1), t_[:-1,:-1]).sum()*100  ## penalize self connections\n",
    "    \n",
    "    \n",
    "    if(verbose):\n",
    "        print(\"bifurcating tree_forcing_loss = \", tree_force_loss)\n",
    "        print(\"self loop_loss = \", loop_loss)\n",
    "    \n",
    "    return tree_force_loss + loop_loss"
   ]
  },
  {
   "cell_type": "code",
   "execution_count": null,
   "metadata": {},
   "outputs": [],
   "source": []
  },
  {
   "cell_type": "code",
   "execution_count": 21,
   "metadata": {},
   "outputs": [],
   "source": [
    "def compute_loss(params, seqs, base_tree, verbose = False):\n",
    "    seqs_ = combine_to_seq(params, seqs, n_leaves, n_all)\n",
    "    t_    = update_tree(params, base_tree)\n",
    "\n",
    "    loss  = compute_cost(seqs_,t_) + enforce_graph(t_,10,metadata, verbose)\n",
    "    \n",
    "    return loss"
   ]
  },
  {
   "cell_type": "code",
   "execution_count": null,
   "metadata": {},
   "outputs": [],
   "source": []
  },
  {
   "cell_type": "code",
   "execution_count": 22,
   "metadata": {},
   "outputs": [
    {
     "name": "stderr",
     "output_type": "stream",
     "text": [
      "/n/home12/ramith/.local/lib/python3.8/site-packages/jax/_src/ops/scatter.py:87: FutureWarning: scatter inputs have incompatible types: cannot safely cast value from dtype=float32 to dtype=int32. In future JAX releases this will result in an error.\n",
      "  warnings.warn(\"scatter inputs have incompatible types: cannot safely cast \"\n"
     ]
    },
    {
     "data": {
      "text/plain": [
       "DeviceArray(146.32368, dtype=float32)"
      ]
     },
     "execution_count": 22,
     "metadata": {},
     "output_type": "execute_result"
    }
   ],
   "source": [
    "compute_loss(params, seqs, base_tree)"
   ]
  },
  {
   "cell_type": "code",
   "execution_count": null,
   "metadata": {},
   "outputs": [],
   "source": []
  },
  {
   "cell_type": "code",
   "execution_count": 23,
   "metadata": {},
   "outputs": [
    {
     "name": "stdout",
     "output_type": "stream",
     "text": [
      "146.32368 seq = {}\n",
      "18.04161 seq = {}\n",
      "18.00309 seq = {}\n",
      "17.99414 seq = {}\n",
      "17.99013 seq = {}\n",
      "17.98855 seq = {}\n",
      "17.98618 seq = {}\n",
      "17.98509 seq = {}\n",
      "17.98414 seq = {}\n",
      "17.98308 seq = {}\n",
      "17.98088 seq = {}\n",
      "17.22717 seq = {}\n",
      "18.00395 seq = {}\n",
      "18.00224 seq = {}\n",
      "18.00159 seq = {}\n"
     ]
    }
   ],
   "source": [
    "trees = []\n",
    "\n",
    "for _ in range(1500):\n",
    "    grads = jax.grad(compute_loss)(params, seqs, base_tree)\n",
    "    \n",
    "    \n",
    "    t_= update_tree(params, base_tree)\n",
    "    t__ = discretize_tree_topology(t_,n_all)\n",
    "    t__ = t__.at[-1,-1].set(0)\n",
    "    \n",
    "    trees.append(t__)\n",
    "    \n",
    "    if(_%100==0):\n",
    "        # temp  = combine_to_seq(params, seqs)\n",
    "        \n",
    "        print(\"{:.5f}\".format(compute_loss(params, seqs, base_tree)),end = \" seq = {}\\n\")\n",
    "        #print(t_[:,-2],\",\",t_[:,-1],end=\"}\\n\")\n",
    "    updates, opt_state = optimizer.update(grads, opt_state)\n",
    "    params = optax.apply_updates(params, updates)\n"
   ]
  },
  {
   "cell_type": "code",
   "execution_count": 24,
   "metadata": {},
   "outputs": [],
   "source": [
    "adjacency_matrix2 = jnp.array(trees)"
   ]
  },
  {
   "cell_type": "code",
   "execution_count": 25,
   "metadata": {},
   "outputs": [
    {
     "name": "stderr",
     "output_type": "stream",
     "text": [
      "<__array_function__ internals>:180: VisibleDeprecationWarning: Creating an ndarray from ragged nested sequences (which is a list-or-tuple of lists-or-tuples-or ndarrays with different lengths or shapes) is deprecated. If you meant to do this, you must specify 'dtype=object' when creating the ndarray.\n",
      "/n/home12/ramith/.conda/envs/jax_python38/lib/python3.8/site-packages/netgraph/_utils.py:395: RuntimeWarning: invalid value encountered in divide\n",
      "  unit_vector = vector / np.linalg.norm(vector)\n"
     ]
    },
    {
     "data": {
      "image/png": "[encoded data removed]",
      "text/plain": [
       "<Figure size 432x288 with 1 Axes>"
      ]
     },
     "metadata": {},
     "output_type": "display_data"
    }
   ],
   "source": [
    "anim = animate_tree(adjacency_matrix2, n_leaves, n_ancestors, total_frames = 500 )"
   ]
  },
  {
   "cell_type": "code",
   "execution_count": 26,
   "metadata": {},
   "outputs": [],
   "source": [
    "#anim.save(f\"nodes_{n_all}.mp4\")"
   ]
  },
  {
   "cell_type": "code",
   "execution_count": 27,
   "metadata": {},
   "outputs": [],
   "source": [
    "t_new = discretize_tree_topology(update_tree(params, base_tree), n_leaves + n_ancestors)"
   ]
  },
  {
   "cell_type": "code",
   "execution_count": 28,
   "metadata": {},
   "outputs": [
    {
     "name": "stderr",
     "output_type": "stream",
     "text": [
      "/n/home12/ramith/.local/lib/python3.8/site-packages/jax/_src/ops/scatter.py:87: FutureWarning: scatter inputs have incompatible types: cannot safely cast value from dtype=float32 to dtype=int32. In future JAX releases this will result in an error.\n",
      "  warnings.warn(\"scatter inputs have incompatible types: cannot safely cast \"\n"
     ]
    }
   ],
   "source": [
    "discretized = jnp.round(combine_to_seq(params, seqs, n_leaves, n_all))"
   ]
  },
  {
   "cell_type": "code",
   "execution_count": 29,
   "metadata": {},
   "outputs": [
    {
     "name": "stdout",
     "output_type": "stream",
     "text": [
      "bifurcating tree_forcing_loss =  0.0009646257\n",
      "self loop_loss =  0.00014244938\n",
      "bidirectional loss =  1.0000229\n"
     ]
    },
    {
     "data": {
      "text/plain": [
       "DeviceArray(18.001236, dtype=float32)"
      ]
     },
     "execution_count": 29,
     "metadata": {},
     "output_type": "execute_result"
    }
   ],
   "source": [
    "compute_loss(params, seqs, base_tree, 1)"
   ]
  },
  {
   "cell_type": "code",
   "execution_count": 30,
   "metadata": {},
   "outputs": [
    {
     "data": {
      "text/plain": [
       "DeviceArray([[0., 0., 0., 0., 0., 0., 0., 0., 1., 0., 0., 0., 0.],\n",
       "             [0., 0., 0., 0., 0., 0., 0., 0., 0., 0., 1., 0., 0.],\n",
       "             [0., 0., 0., 0., 0., 0., 0., 0., 0., 1., 0., 0., 0.],\n",
       "             [0., 0., 0., 0., 0., 0., 0., 0., 0., 1., 0., 0., 0.],\n",
       "             [0., 0., 0., 0., 0., 0., 0., 0., 0., 0., 0., 1., 0.],\n",
       "             [0., 0., 0., 0., 0., 0., 0., 0., 0., 0., 0., 1., 0.],\n",
       "             [0., 0., 0., 0., 0., 0., 0., 0., 1., 0., 0., 0., 0.],\n",
       "             [0., 0., 0., 0., 0., 0., 0., 0., 0., 0., 0., 0., 1.],\n",
       "             [0., 0., 0., 0., 0., 0., 0., 1., 0., 0., 0., 0., 0.],\n",
       "             [0., 0., 0., 0., 0., 0., 0., 0., 0., 0., 0., 0., 1.],\n",
       "             [0., 0., 0., 0., 0., 0., 0., 1., 0., 0., 0., 0., 0.],\n",
       "             [0., 0., 0., 0., 0., 0., 0., 0., 0., 0., 1., 0., 0.],\n",
       "             [0., 0., 0., 0., 0., 0., 0., 0., 0., 0., 0., 0., 1.]],            dtype=float32)"
      ]
     },
     "execution_count": 30,
     "metadata": {},
     "output_type": "execute_result"
    }
   ],
   "source": [
    "t_new"
   ]
  },
  {
   "cell_type": "code",
   "execution_count": null,
   "metadata": {},
   "outputs": [],
   "source": []
  },
  {
   "cell_type": "code",
   "execution_count": null,
   "metadata": {},
   "outputs": [],
   "source": []
  },
  {
   "cell_type": "code",
   "execution_count": null,
   "metadata": {},
   "outputs": [],
   "source": []
  },
  {
   "cell_type": "code",
   "execution_count": null,
   "metadata": {},
   "outputs": [],
   "source": []
  },
  {
   "cell_type": "code",
   "execution_count": null,
   "metadata": {},
   "outputs": [],
   "source": []
  },
  {
   "cell_type": "code",
   "execution_count": null,
   "metadata": {},
   "outputs": [],
   "source": []
  },
  {
   "cell_type": "code",
   "execution_count": null,
   "metadata": {},
   "outputs": [],
   "source": []
  },
  {
   "cell_type": "code",
   "execution_count": null,
   "metadata": {},
   "outputs": [],
   "source": []
  },
  {
   "cell_type": "code",
   "execution_count": null,
   "metadata": {},
   "outputs": [],
   "source": []
  },
  {
   "cell_type": "code",
   "execution_count": null,
   "metadata": {},
   "outputs": [],
   "source": []
  },
  {
   "cell_type": "code",
   "execution_count": 31,
   "metadata": {},
   "outputs": [
    {
     "data": {
      "text/plain": [
       "<matplotlib.colorbar.Colorbar at 0x2b7b076f6ac0>"
      ]
     },
     "execution_count": 31,
     "metadata": {},
     "output_type": "execute_result"
    },
    {
     "data": {
      "image/png": "[encoded data removed]",
      "text/plain": [
       "<Figure size 432x288 with 2 Axes>"
      ]
     },
     "metadata": {
      "needs_background": "light"
     },
     "output_type": "display_data"
    }
   ],
   "source": [
    "plt.imshow(adjacency_matrix2[300])\n",
    "plt.colorbar()"
   ]
  },
  {
   "cell_type": "code",
   "execution_count": null,
   "metadata": {},
   "outputs": [],
   "source": []
  },
  {
   "cell_type": "code",
   "execution_count": null,
   "metadata": {},
   "outputs": [],
   "source": []
  },
  {
   "cell_type": "code",
   "execution_count": null,
   "metadata": {},
   "outputs": [],
   "source": []
  },
  {
   "cell_type": "code",
   "execution_count": 32,
   "metadata": {},
   "outputs": [
    {
     "data": {
      "text/plain": [
       "<matplotlib.colorbar.Colorbar at 0x2b7b0779bbb0>"
      ]
     },
     "execution_count": 32,
     "metadata": {},
     "output_type": "execute_result"
    },
    {
     "data": {
      "image/png": "[encoded data removed]",
      "text/plain": [
       "<Figure size 432x288 with 2 Axes>"
      ]
     },
     "metadata": {
      "needs_background": "light"
     },
     "output_type": "display_data"
    }
   ],
   "source": [
    "plt.imshow(adjacency_matrix2[-1])\n",
    "plt.colorbar()\n"
   ]
  },
  {
   "cell_type": "code",
   "execution_count": null,
   "metadata": {},
   "outputs": [],
   "source": []
  },
  {
   "cell_type": "code",
   "execution_count": null,
   "metadata": {},
   "outputs": [],
   "source": []
  },
  {
   "cell_type": "code",
   "execution_count": null,
   "metadata": {},
   "outputs": [],
   "source": []
  },
  {
   "cell_type": "code",
   "execution_count": null,
   "metadata": {},
   "outputs": [],
   "source": []
  },
  {
   "cell_type": "code",
   "execution_count": null,
   "metadata": {},
   "outputs": [],
   "source": []
  },
  {
   "cell_type": "code",
   "execution_count": null,
   "metadata": {},
   "outputs": [],
   "source": []
  },
  {
   "cell_type": "markdown",
   "metadata": {},
   "source": [
    "## Retrieving the new sequences array"
   ]
  },
  {
   "cell_type": "code",
   "execution_count": null,
   "metadata": {},
   "outputs": [],
   "source": []
  },
  {
   "cell_type": "code",
   "execution_count": 33,
   "metadata": {},
   "outputs": [],
   "source": [
    "t_new = discretize_tree_topology(update_tree(params, base_tree), n_leaves + n_ancestors)"
   ]
  },
  {
   "cell_type": "code",
   "execution_count": 34,
   "metadata": {},
   "outputs": [
    {
     "data": {
      "text/plain": [
       "DeviceArray([[1, 0, 1, 0],\n",
       "             [0, 1, 1, 0],\n",
       "             [1, 1, 1, 0],\n",
       "             [1, 0, 0, 0],\n",
       "             [0, 0, 0, 0],\n",
       "             [1, 0, 1, 1],\n",
       "             [0, 0, 0, 0],\n",
       "             [0, 0, 0, 0],\n",
       "             [0, 0, 0, 0],\n",
       "             [0, 0, 0, 0],\n",
       "             [0, 0, 0, 0],\n",
       "             [0, 0, 0, 0],\n",
       "             [1, 1, 1, 0]], dtype=int32)"
      ]
     },
     "execution_count": 34,
     "metadata": {},
     "output_type": "execute_result"
    }
   ],
   "source": [
    "combine_to_seq(params, seqs, n_leaves, n_all)"
   ]
  },
  {
   "cell_type": "code",
   "execution_count": 35,
   "metadata": {},
   "outputs": [],
   "source": [
    "discretized = jnp.round(combine_to_seq(params, seqs, n_leaves, n_all))"
   ]
  },
  {
   "cell_type": "code",
   "execution_count": 36,
   "metadata": {},
   "outputs": [
    {
     "data": {
      "text/plain": [
       "DeviceArray([[1, 0, 1, 0],\n",
       "             [0, 1, 1, 0],\n",
       "             [1, 1, 1, 0],\n",
       "             [1, 0, 0, 0],\n",
       "             [0, 0, 0, 0],\n",
       "             [1, 0, 1, 1],\n",
       "             [0, 0, 0, 0],\n",
       "             [0, 0, 0, 0],\n",
       "             [0, 0, 0, 0],\n",
       "             [0, 0, 0, 0],\n",
       "             [0, 0, 0, 0],\n",
       "             [0, 0, 0, 0],\n",
       "             [1, 1, 1, 0]], dtype=int32)"
      ]
     },
     "execution_count": 36,
     "metadata": {},
     "output_type": "execute_result"
    }
   ],
   "source": [
    "discretized"
   ]
  },
  {
   "cell_type": "code",
   "execution_count": 37,
   "metadata": {},
   "outputs": [
    {
     "data": {
      "text/plain": [
       "DeviceArray([[1, 0, 1, 0],\n",
       "             [0, 1, 1, 0],\n",
       "             [1, 1, 1, 0],\n",
       "             [1, 0, 0, 0],\n",
       "             [0, 0, 0, 0],\n",
       "             [1, 0, 1, 1],\n",
       "             [1, 0, 1, 1],\n",
       "             [0, 1, 0, 1],\n",
       "             [0, 1, 0, 1],\n",
       "             [1, 0, 1, 1],\n",
       "             [0, 0, 0, 0],\n",
       "             [0, 0, 1, 1],\n",
       "             [1, 1, 1, 0]], dtype=int32)"
      ]
     },
     "execution_count": 37,
     "metadata": {},
     "output_type": "execute_result"
    }
   ],
   "source": [
    "seqs"
   ]
  },
  {
   "cell_type": "code",
   "execution_count": 38,
   "metadata": {},
   "outputs": [
    {
     "data": {
      "text/plain": [
       "{'h': DeviceArray([ 0.18693547,  1.0653336 , -1.5593132 , -1.5352962 ], dtype=float32),\n",
       " 'i': DeviceArray([ 0.18693547,  1.0653336 , -1.5593132 , -1.5352962 ], dtype=float32),\n",
       " 'j': DeviceArray([ 0.18693547,  1.0653336 , -1.5593132 , -1.5352962 ], dtype=float32),\n",
       " 'k': DeviceArray([ 0.18693547,  1.0653336 , -1.5593132 , -1.5352962 ], dtype=float32),\n",
       " 'l': DeviceArray([ 0.18693547,  1.0653336 , -1.5593132 , -1.5352962 ], dtype=float32),\n",
       " 'm': DeviceArray([ 0.18693547,  1.0653336 , -1.5593132 , -1.5352962 ], dtype=float32),\n",
       " 't': DeviceArray([[ -0.2678968 ,   6.855687  ,  -1.9832175 ,  -1.8411987 ,\n",
       "                -4.0628896 ,  -6.085097  ],\n",
       "              [ -0.2072598 ,  -4.216717  ,  -2.9689703 ,  11.384897  ,\n",
       "                -3.8462405 ,  -6.045516  ],\n",
       "              [ -0.16445479,  -4.1029086 ,  12.486676  ,   1.7860752 ,\n",
       "                -2.1724157 , -10.215394  ],\n",
       "              [ -1.650666  ,  -1.0646654 ,   6.1172266 ,  -0.6318932 ,\n",
       "                -1.7079546 ,  -4.620865  ],\n",
       "              [ -4.34329   ,  -5.514943  ,   1.684105  ,  -6.021262  ,\n",
       "                 8.89361   ,  -7.266374  ],\n",
       "              [ -3.1677074 ,  -3.176678  ,   1.1071974 ,  -2.673931  ,\n",
       "                 8.768727  ,  -7.881968  ],\n",
       "              [ -1.2307283 ,   6.9480042 ,  -0.5839806 ,  -0.7421983 ,\n",
       "                -3.0715635 ,  -3.251245  ],\n",
       "              [ -4.5995517 ,   1.2090957 ,   0.4408215 ,   0.78870434,\n",
       "                -0.47103083,  13.683058  ],\n",
       "              [ 24.549242  ,  -5.718611  ,   3.9417274 ,   3.7246792 ,\n",
       "                -1.5883979 , -12.340132  ],\n",
       "              [  0.8622015 ,   1.2296714 ,  -4.902726  , -10.136637  ,\n",
       "                -3.0188074 ,  16.51115   ],\n",
       "              [  8.081856  ,  -2.9730787 ,  -2.0924988 ,  -7.9975185 ,\n",
       "                -4.0971375 ,  -7.124801  ],\n",
       "              [  0.77161044,  -3.288659  ,  -1.1460047 ,   8.129436  ,\n",
       "                -5.416396  ,  -6.4249563 ]], dtype=float32)}"
      ]
     },
     "execution_count": 38,
     "metadata": {},
     "output_type": "execute_result"
    }
   ],
   "source": [
    "params"
   ]
  },
  {
   "cell_type": "markdown",
   "metadata": {
    "tags": []
   },
   "source": [
    "### New cost"
   ]
  },
  {
   "cell_type": "code",
   "execution_count": 39,
   "metadata": {},
   "outputs": [
    {
     "data": {
      "text/plain": [
       "DeviceArray([[0., 0., 0., 0., 0., 0., 0., 0., 1., 0., 0., 0., 0.],\n",
       "             [0., 0., 0., 0., 0., 0., 0., 0., 0., 0., 1., 0., 0.],\n",
       "             [0., 0., 0., 0., 0., 0., 0., 0., 0., 1., 0., 0., 0.],\n",
       "             [0., 0., 0., 0., 0., 0., 0., 0., 0., 1., 0., 0., 0.],\n",
       "             [0., 0., 0., 0., 0., 0., 0., 0., 0., 0., 0., 1., 0.],\n",
       "             [0., 0., 0., 0., 0., 0., 0., 0., 0., 0., 0., 1., 0.],\n",
       "             [0., 0., 0., 0., 0., 0., 0., 0., 1., 0., 0., 0., 0.],\n",
       "             [0., 0., 0., 0., 0., 0., 0., 0., 0., 0., 0., 0., 1.],\n",
       "             [0., 0., 0., 0., 0., 0., 0., 1., 0., 0., 0., 0., 0.],\n",
       "             [0., 0., 0., 0., 0., 0., 0., 0., 0., 0., 0., 0., 1.],\n",
       "             [0., 0., 0., 0., 0., 0., 0., 1., 0., 0., 0., 0., 0.],\n",
       "             [0., 0., 0., 0., 0., 0., 0., 0., 0., 0., 1., 0., 0.],\n",
       "             [0., 0., 0., 0., 0., 0., 0., 0., 0., 0., 0., 0., 1.]],            dtype=float32)"
      ]
     },
     "execution_count": 39,
     "metadata": {},
     "output_type": "execute_result"
    }
   ],
   "source": [
    "t_new"
   ]
  },
  {
   "cell_type": "code",
   "execution_count": 40,
   "metadata": {},
   "outputs": [
    {
     "data": {
      "text/plain": [
       "DeviceArray(17., dtype=float32)"
      ]
     },
     "execution_count": 40,
     "metadata": {},
     "output_type": "execute_result"
    },
    {
     "data": {
      "image/png": "[encoded data removed]",
      "text/plain": [
       "<Figure size 432x288 with 1 Axes>"
      ]
     },
     "metadata": {},
     "output_type": "display_data"
    }
   ],
   "source": [
    "compute_cost(discretized, t_new, 1)"
   ]
  },
  {
   "cell_type": "code",
   "execution_count": 41,
   "metadata": {},
   "outputs": [
    {
     "data": {
      "text/plain": [
       "DeviceArray([[0., 0., 0., 0., 0., 0., 0., 0., 1., 0., 0., 0., 0.],\n",
       "             [0., 0., 0., 0., 0., 0., 0., 0., 0., 0., 1., 0., 0.],\n",
       "             [0., 0., 0., 0., 0., 0., 0., 0., 0., 1., 0., 0., 0.],\n",
       "             [0., 0., 0., 0., 0., 0., 0., 0., 0., 1., 0., 0., 0.],\n",
       "             [0., 0., 0., 0., 0., 0., 0., 0., 0., 0., 0., 1., 0.],\n",
       "             [0., 0., 0., 0., 0., 0., 0., 0., 0., 0., 0., 1., 0.],\n",
       "             [0., 0., 0., 0., 0., 0., 0., 0., 1., 0., 0., 0., 0.],\n",
       "             [0., 0., 0., 0., 0., 0., 0., 0., 0., 0., 0., 0., 1.],\n",
       "             [0., 0., 0., 0., 0., 0., 0., 1., 0., 0., 0., 0., 0.],\n",
       "             [0., 0., 0., 0., 0., 0., 0., 0., 0., 0., 0., 0., 1.],\n",
       "             [0., 0., 0., 0., 0., 0., 0., 1., 0., 0., 0., 0., 0.],\n",
       "             [0., 0., 0., 0., 0., 0., 0., 0., 0., 0., 1., 0., 0.],\n",
       "             [0., 0., 0., 0., 0., 0., 0., 0., 0., 0., 0., 0., 1.]],            dtype=float32)"
      ]
     },
     "execution_count": 41,
     "metadata": {},
     "output_type": "execute_result"
    }
   ],
   "source": [
    "t_new"
   ]
  },
  {
   "cell_type": "markdown",
   "metadata": {},
   "source": [
    "### Old cost"
   ]
  },
  {
   "cell_type": "code",
   "execution_count": 42,
   "metadata": {},
   "outputs": [
    {
     "data": {
      "text/plain": [
       "DeviceArray(26., dtype=float32)"
      ]
     },
     "execution_count": 42,
     "metadata": {},
     "output_type": "execute_result"
    }
   ],
   "source": [
    "compute_cost(seqs, base_tree) ##when d & e were all zeros"
   ]
  },
  {
   "cell_type": "markdown",
   "metadata": {},
   "source": [
    "### test arbitrary sequence for d & e"
   ]
  },
  {
   "cell_type": "code",
   "execution_count": 43,
   "metadata": {},
   "outputs": [],
   "source": [
    "test = jnp.array([[0, 0., 0., 0.],\n",
    "                 [1., 0., 0., 1.],\n",
    "                 [0., 1., 1., 0.],\n",
    "                 [0., 0., 0., 0.],\n",
    "                 [0., 0., 0., 0.]])"
   ]
  },
  {
   "cell_type": "code",
   "execution_count": 44,
   "metadata": {},
   "outputs": [],
   "source": [
    "# compute_cost(test, t_new)"
   ]
  },
  {
   "cell_type": "code",
   "execution_count": null,
   "metadata": {},
   "outputs": [],
   "source": []
  },
  {
   "cell_type": "code",
   "execution_count": null,
   "metadata": {},
   "outputs": [],
   "source": []
  },
  {
   "cell_type": "code",
   "execution_count": null,
   "metadata": {},
   "outputs": [],
   "source": []
  },
  {
   "cell_type": "code",
   "execution_count": null,
   "metadata": {},
   "outputs": [],
   "source": []
  },
  {
   "cell_type": "code",
   "execution_count": null,
   "metadata": {},
   "outputs": [],
   "source": []
  },
  {
   "cell_type": "code",
   "execution_count": null,
   "metadata": {},
   "outputs": [],
   "source": []
  }
 ],
 "metadata": {
  "kernelspec": {
   "display_name": "Python [conda env:.conda-jax_python38]",
   "language": "python",
   "name": "conda-env-.conda-jax_python38-py"
  },
  "language_info": {
   "codemirror_mode": {
    "name": "ipython",
    "version": 3
   },
   "file_extension": ".py",
   "mimetype": "text/x-python",
   "name": "python",
   "nbconvert_exporter": "python",
   "pygments_lexer": "ipython3",
   "version": "3.8.13"
  }
 },
 "nbformat": 4,
 "nbformat_minor": 4
}
